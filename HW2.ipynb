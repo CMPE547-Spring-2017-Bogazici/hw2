{
 "cells": [
  {
   "cell_type": "markdown",
   "metadata": {},
   "source": [
    "### Question1"
   ]
  },
  {
   "cell_type": "code",
   "execution_count": 33,
   "metadata": {
    "collapsed": false
   },
   "outputs": [
    {
     "data": {
      "image/png": "[encoded data removed]",
      "text/plain": [
       "<matplotlib.figure.Figure at 0x116e7fda0>"
      ]
     },
     "metadata": {},
     "output_type": "display_data"
    }
   ],
   "source": [
    "import matplotlib.pyplot as plt\n",
    "import pylab\n",
    "\n",
    "x1 = []\n",
    "x2 = []\n",
    "content = []\n",
    "\n",
    "with open(\"data.txt\") as f:\n",
    "    content = f.readlines()\n",
    "    content = [x.strip() for x in content] \n",
    "\n",
    "for line in content:\n",
    "    l = line.split(\" \")\n",
    "    x1.append(l[0])\n",
    "    x2.append(l[1])\n",
    "\n",
    "plt.axis(\"equal\")\n",
    "plt.xlabel(\"x1\");\n",
    "plt.ylabel(\"x2\");\n",
    "plt.title(\"Joint disribution graph\")\n",
    "plt.scatter(x1,x2)\n",
    "plt.show()"
   ]
  },
  {
   "cell_type": "markdown",
   "metadata": {},
   "source": [
    "### Question2"
   ]
  },
  {
   "cell_type": "markdown",
   "metadata": {
    "collapsed": false
   },
   "source": [
    "The shape looks like an ellipse. For this reason, we can us the general equation of the ellipse to represent this distribution.\n",
    "\n",
    "$\\dfrac{(x-c_{1})^{2}}{a^{2}}+\\dfrac{(y-c_{2})^{2}}{b^{2}}=1$\n",
    "\n",
    "For the distribution above, x1 values vary from 4 to 6, whereas x2 vary from 2 to 8. The center of the ellipse approximately at (5,5) point. Based on this information, $a=1$ and $b=3$ in the general formula. We have the following formula: \n",
    "\n",
    "$\\dfrac{(x_{1}-5)^{2}}{1^{2}}+\\dfrac{(x_{2}-5)^{2}}{3^{2}}=1$\n",
    "\n",
    "Although, the distribution is almost ellipse shaped, we can see that the outliers in $x_{1}$ are more than the outliers in $x_{2}$. For this reason, we will give more error to $x_{1}$. We will use normally distributed errors for both $x_{1}$ and $x_{2}$"
   ]
  },
  {
   "cell_type": "markdown",
   "metadata": {
    "collapsed": true
   },
   "source": [
    "### Question3"
   ]
  },
  {
   "cell_type": "code",
   "execution_count": 34,
   "metadata": {
    "collapsed": false
   },
   "outputs": [
    {
     "data": {
      "text/plain": [
       "array([ 7.76567263,  6.90524215,  6.83475237,  7.79300407,  7.75324112,\n",
       "        7.17084088,  7.99999724,  5.88828339,  7.38690363,  7.32660624,\n",
       "        7.99991323,  7.57093428,  7.97941302,  7.85211518,  7.9117649 ,\n",
       "        7.84568545,  7.86905303,  6.27989571,  6.91436375,  7.25310961,\n",
       "        7.81487562,  6.96591064,  7.25758667,  7.7728577 ,  7.95238711,\n",
       "        7.98388357,  7.19180216,  7.70127788,  7.00855477,  7.57691014,\n",
       "        7.67638391,  7.83479222,  6.4598776 ,  7.97789288,  7.59807955,\n",
       "        7.91664619,  7.35705644,  7.95329458,  7.988896  ,  7.8353653 ,\n",
       "        7.98263855,  7.99995635,  7.30586993,  6.44707961,  7.93326832,\n",
       "        7.99926272,  7.27187382,  7.88940935,  7.99005105,  7.47887644,\n",
       "        0.        ,  3.40328821,  2.65855313,  2.17509833,  2.03561024,\n",
       "        3.70438845,  2.00293942,  2.2343383 ,  2.68249964,  2.576155  ,\n",
       "        3.97307112,  2.73220585,  3.57361169,  2.66196   ,  2.00397728,\n",
       "        2.36242793,  2.20215983,  3.26684098,  2.97524089,  2.48145199,\n",
       "        2.60212415,  3.22869258,  4.24439641,  2.34091634,  3.57087498,\n",
       "        3.45190918,  2.0799739 ,  2.01745078,  2.12107437,  2.02361166,\n",
       "        2.57479871,  2.20826085,  3.42911096,  2.85400161,  2.08774394,\n",
       "        2.30555528,  3.24713421,  2.84457207,  2.40017563,  2.43507992,\n",
       "        2.12562875,  2.02401044,  2.14337678,  2.03967548,  3.1368806 ,\n",
       "        2.1462684 ,  3.44468449,  2.30056193,  2.46246395,  2.66718934])"
      ]
     },
     "execution_count": 34,
     "metadata": {},
     "output_type": "execute_result"
    }
   ],
   "source": [
    "import matplotlib.pyplot as plt\n",
    "import pylab\n",
    "import numpy as np\n",
    "import pandas as pd\n",
    "\n",
    "N = 100      #sample size\n",
    "x1_1 = np.random.rand(N)*2+4;\n",
    "x2_1 = np.zeros(100)\n",
    "x2_1[0:50] = (np.sqrt(9-((x1_1[0:50]-5)**2)*9))+5;\n",
    "x2_1[51:101] = -(np.sqrt(9-((x1_1[51:101]-5)**2)*9))+5\n",
    "\n",
    "x1_1\n",
    "x2_1"
   ]
  },
  {
   "cell_type": "markdown",
   "metadata": {},
   "source": [
    "### Question4"
   ]
  },
  {
   "cell_type": "code",
   "execution_count": 60,
   "metadata": {
    "collapsed": false
   },
   "outputs": [
    {
     "data": {
      "image/png": "[encoded data removed]",
      "text/plain": [
       "<matplotlib.figure.Figure at 0x116e7f860>"
      ]
     },
     "metadata": {},
     "output_type": "display_data"
    }
   ],
   "source": [
    "import matplotlib.pyplot as plt\n",
    "import pylab\n",
    "import numpy as np\n",
    "import pandas as pd\n",
    "\n",
    "N = 100      #sample size\n",
    "x1_1 = np.random.rand(N)*2+4;\n",
    "x2_1 = np.zeros(100)\n",
    "x2_1[0:50] = (np.sqrt(9-((x1_1[0:50]-5)**2)*9))+5;\n",
    "x2_1[51:101] = -(np.sqrt(9-((x1_1[51:101]-5)**2)*9))+5\n",
    "\n",
    "plt.axis(\"equal\")\n",
    "plt.xlabel(\"x1\");\n",
    "plt.ylabel(\"x2\");\n",
    "plt.title(\"Data without error\")\n",
    "plt.plot(x1,x2,\"b.\")\n",
    "plt.plot(x1_1,x2_1,\"y.\")\n",
    "plt.scatter(x1_1,x2_1)\n",
    "\n",
    "pylab.show()"
   ]
  },
  {
   "cell_type": "code",
   "execution_count": 59,
   "metadata": {
    "collapsed": false
   },
   "outputs": [
    {
     "data": {
      "image/png": "[encoded data removed]",
      "text/plain": [
       "<matplotlib.figure.Figure at 0x117beb278>"
      ]
     },
     "metadata": {},
     "output_type": "display_data"
    }
   ],
   "source": [
    "import matplotlib.pyplot as plt\n",
    "import pylab\n",
    "import numpy as np\n",
    "import pandas as pd\n",
    "\n",
    "N = 100      #sample size\n",
    "\n",
    "x1_2 = np.random.rand(N)*2+4;\n",
    "x2_2 = np.zeros(100)\n",
    "x2_2[0:50] = (np.sqrt(9-((x1_2[0:50]-5)**2)*9))+5;\n",
    "x2_2[51:101] = -(np.sqrt(9-((x1_2[51:101]-5)**2)*9))+5\n",
    "\n",
    "x1_error = np.random.randn(N)*0.1;\n",
    "x2_error = np.random.randn(N)*0.06; \n",
    "\n",
    "x1_2 += x1_error\n",
    "x2_2 +=x2_error\n",
    "\n",
    "plt.axis(\"equal\")\n",
    "plt.xlabel(\"x1\");\n",
    "plt.ylabel(\"x2\");\n",
    "plt.plot(x1,x2,\"b.\")\n",
    "plt.plot(x1_2,x2_2,\"y.\")\n",
    "plt.title(\"Data with error\")\n",
    "plt.scatter(x1_2,x2_2)\n",
    "\n",
    "pylab.show()"
   ]
  },
  {
   "cell_type": "markdown",
   "metadata": {},
   "source": [
    "### Question5"
   ]
  },
  {
   "cell_type": "markdown",
   "metadata": {},
   "source": [
    "As a conclusion, our data with error quite similar with the original data. However, we still counldn't catch outliers enough. Our data is more gathered around the ellipse whereas the original data may have outside outliers. Also, our data has an outlier which is quire away from the original one and the other points. Although the small differences, we can say that we created our sample quite similar to original data."
   ]
  },
  {
   "cell_type": "code",
   "execution_count": null,
   "metadata": {
    "collapsed": true
   },
   "outputs": [],
   "source": []
  }
 ],
 "metadata": {
  "kernelspec": {
   "display_name": "Python 3",
   "language": "python",
   "name": "python3"
  },
  "language_info": {
   "codemirror_mode": {
    "name": "ipython",
    "version": 3
   },
   "file_extension": ".py",
   "mimetype": "text/x-python",
   "name": "python",
   "nbconvert_exporter": "python",
   "pygments_lexer": "ipython3",
   "version": "3.6.0"
  }
 },
 "nbformat": 4,
 "nbformat_minor": 2
}
