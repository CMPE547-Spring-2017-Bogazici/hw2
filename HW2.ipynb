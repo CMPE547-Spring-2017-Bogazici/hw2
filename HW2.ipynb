{
 "cells": [
  {
   "cell_type": "markdown",
   "metadata": {
    "deletable": true,
    "editable": true
   },
   "source": [
    "# Homework 2"
   ]
  },
  {
   "cell_type": "markdown",
   "metadata": {
    "deletable": true,
    "editable": true
   },
   "source": [
    "### 1. Visualization of the Dataset"
   ]
  },
  {
   "cell_type": "code",
   "execution_count": 109,
   "metadata": {
    "collapsed": false,
    "deletable": true,
    "editable": true
   },
   "outputs": [],
   "source": [
    "import numpy as np\n",
    "import pandas as pd\n",
    "import matplotlib.pyplot as plt \n",
    "import matplotlib as mpl\n",
    "import seaborn as sns \n",
    "\n",
    "sns.set(color_codes=True)\n",
    "sns.set_context(\"notebook\", font_scale=1.1)\n",
    "sns.set_style(\"darkgrid\")\n",
    "%matplotlib inline\n",
    "\n"
   ]
  },
  {
   "cell_type": "code",
   "execution_count": 135,
   "metadata": {
    "collapsed": false,
    "deletable": true,
    "editable": true
   },
   "outputs": [
    {
     "data": {
      "text/html": [
       "<div>\n",
       "<table border=\"1\" class=\"dataframe\">\n",
       "  <thead>\n",
       "    <tr style=\"text-align: right;\">\n",
       "      <th></th>\n",
       "      <th>x1</th>\n",
       "      <th>x2</th>\n",
       "    </tr>\n",
       "  </thead>\n",
       "  <tbody>\n",
       "    <tr>\n",
       "      <th>count</th>\n",
       "      <td>100.000000</td>\n",
       "      <td>100.000000</td>\n",
       "    </tr>\n",
       "    <tr>\n",
       "      <th>mean</th>\n",
       "      <td>4.899030</td>\n",
       "      <td>4.852420</td>\n",
       "    </tr>\n",
       "    <tr>\n",
       "      <th>std</th>\n",
       "      <td>0.706047</td>\n",
       "      <td>2.260844</td>\n",
       "    </tr>\n",
       "    <tr>\n",
       "      <th>min</th>\n",
       "      <td>3.502000</td>\n",
       "      <td>2.001000</td>\n",
       "    </tr>\n",
       "    <tr>\n",
       "      <th>25%</th>\n",
       "      <td>4.332750</td>\n",
       "      <td>2.599500</td>\n",
       "    </tr>\n",
       "    <tr>\n",
       "      <th>50%</th>\n",
       "      <td>4.934500</td>\n",
       "      <td>4.596500</td>\n",
       "    </tr>\n",
       "    <tr>\n",
       "      <th>75%</th>\n",
       "      <td>5.436000</td>\n",
       "      <td>7.358250</td>\n",
       "    </tr>\n",
       "    <tr>\n",
       "      <th>max</th>\n",
       "      <td>6.229000</td>\n",
       "      <td>8.000000</td>\n",
       "    </tr>\n",
       "  </tbody>\n",
       "</table>\n",
       "</div>"
      ],
      "text/plain": [
       "               x1          x2\n",
       "count  100.000000  100.000000\n",
       "mean     4.899030    4.852420\n",
       "std      0.706047    2.260844\n",
       "min      3.502000    2.001000\n",
       "25%      4.332750    2.599500\n",
       "50%      4.934500    4.596500\n",
       "75%      5.436000    7.358250\n",
       "max      6.229000    8.000000"
      ]
     },
     "execution_count": 135,
     "metadata": {},
     "output_type": "execute_result"
    }
   ],
   "source": [
    "plot_data = pd.read_csv('data.csv',sep=' ')\n",
    "plot_data.describe()"
   ]
  },
  {
   "cell_type": "code",
   "execution_count": 111,
   "metadata": {
    "collapsed": false,
    "deletable": true,
    "editable": true
   },
   "outputs": [
    {
     "data": {
      "image/png": "[encoded data removed]",
      "text/plain": [
       "<matplotlib.figure.Figure at 0x10afef080>"
      ]
     },
     "metadata": {},
     "output_type": "display_data"
    }
   ],
   "source": [
    "\n",
    "_plot = sns.lmplot('x1', 'x2', \n",
    "           data=plot_data, \n",
    "           fit_reg=False, \n",
    "           size=8,\n",
    "           scatter_kws={\"marker\": \"D\", \n",
    "                        \"s\": 100})\n",
    "axes = _plot.axes\n",
    "axes[0,0].set_xlim(0,9)\n",
    "axes[0,0].set_ylim(0,9)\n",
    "plt.title('Data Visualization');\n",
    "plt.xlabel('x1');\n",
    "plt.ylabel('x2');\n"
   ]
  },
  {
   "cell_type": "markdown",
   "metadata": {
    "deletable": true,
    "editable": true
   },
   "source": [
    "### 2. Propose a Generative Model"
   ]
  },
  {
   "cell_type": "code",
   "execution_count": 136,
   "metadata": {
    "collapsed": false
   },
   "outputs": [
    {
     "name": "stdout",
     "output_type": "stream",
     "text": [
      "3.502 6.229 2.001 8.0\n"
     ]
    }
   ],
   "source": [
    "X1 = plot_data['x1']\n",
    "X2 = plot_data['x2']\n",
    "x1_min,x2_min = min(X1),min(X2)\n",
    "x1_max,x2_max = max(X1),max(X2)\n",
    "print(x1_min,x1_max,x2_min,x2_max)"
   ]
  },
  {
   "cell_type": "markdown",
   "metadata": {},
   "source": [
    "The above model could be interpreted as a vertical ellipse with a center being $(5,5)$ without the noise data.\n",
    "\n",
    "The range of the $x1$ is between $[3.5,6.2]$ and the range of the $x2$ is between roughly $[2,8]$.\n",
    "\n",
    "From this data we can derive the equation for the vertical ellipse, original equation being $\\\\$ $$\\frac{x^2}{a^2} + \\frac{y^2}{b^2} = 1$$  and $$b>a$$ since it has vertical major axis.\n",
    "\n",
    "We convert this equation according to our model and the equation is this: \n",
    "\n",
    "$$ \\frac{(x-5)^2}{1.35^2} + \\frac{(y-5)^2}{3^2} = 1$$\n",
    "\n",
    "If we solve this equation we find that the root is \n",
    "\n",
    "$$ y = 5\\ \\pm\\ \\sqrt{9 - 4.398 (x-5)^2}$$\n",
    "\n",
    "We could use this equation to generate a data set similiar to the given one. We could investigate the distribution of each point class to choose an appropriate noise logic.\n"
   ]
  },
  {
   "cell_type": "code",
   "execution_count": 137,
   "metadata": {
    "collapsed": false
   },
   "outputs": [
    {
     "data": {
      "image/png": "[encoded data removed]",
      "text/plain": [
       "<matplotlib.figure.Figure at 0x10aa2a5f8>"
      ]
     },
     "metadata": {},
     "output_type": "display_data"
    }
   ],
   "source": [
    "sns.jointplot(x=\"x1\",y=\"x2\",data=plot_data);"
   ]
  },
  {
   "cell_type": "markdown",
   "metadata": {},
   "source": [
    "Since the distribution of the $x1$ is more close the uniform distribution, I choose to generate $x1$ from a normal distribution between $[4,6]$ (rounded values for better computation, also rounded 1.35 to 1 for the same purpose).\n",
    "\n",
    "The values of $x2$ will be determined from these $x1$ values and the sign for the roots will be determined via a Gaussian Distribution between $[0,1]$.\n",
    "\n",
    "The noises for the values be added by the Gaussian distribution between $[0,1]$.\n",
    "\n",
    "The proposed generative model is below \n",
    "\n",
    "\\begin{eqnarray}\n",
    "w & \\sim & \\mathcal{U}(4,6)  \\\\\n",
    "x1 & = & w + \\frac{\\varepsilon_{1}}{11}\\\\\n",
    "x2 & = & 5\\pm \\sqrt{9 - 9 (w - 5)^2} \\pm \\frac{\\varepsilon_{2}}{13}\\\\\n",
    "\\varepsilon_{1} & \\sim & \\mathcal{N}(0,1)\\\\\n",
    "\\varepsilon_{2} & \\sim & \\mathcal{N}(0,1)\\\\\n",
    "\\end{eqnarray}"
   ]
  },
  {
   "cell_type": "markdown",
   "metadata": {
    "deletable": true,
    "editable": true
   },
   "source": [
    "### 3. Implement generative model and sample data from the model"
   ]
  },
  {
   "cell_type": "code",
   "execution_count": 141,
   "metadata": {
    "collapsed": false
   },
   "outputs": [
    {
     "data": {
      "text/html": [
       "<div>\n",
       "<table border=\"1\" class=\"dataframe\">\n",
       "  <thead>\n",
       "    <tr style=\"text-align: right;\">\n",
       "      <th></th>\n",
       "      <th>x1</th>\n",
       "      <th>x2</th>\n",
       "    </tr>\n",
       "  </thead>\n",
       "  <tbody>\n",
       "    <tr>\n",
       "      <th>1</th>\n",
       "      <td>5.630009</td>\n",
       "      <td>7.512250</td>\n",
       "    </tr>\n",
       "    <tr>\n",
       "      <th>2</th>\n",
       "      <td>5.670683</td>\n",
       "      <td>7.458730</td>\n",
       "    </tr>\n",
       "    <tr>\n",
       "      <th>3</th>\n",
       "      <td>5.897006</td>\n",
       "      <td>6.563924</td>\n",
       "    </tr>\n",
       "    <tr>\n",
       "      <th>4</th>\n",
       "      <td>4.869269</td>\n",
       "      <td>2.120313</td>\n",
       "    </tr>\n",
       "    <tr>\n",
       "      <th>5</th>\n",
       "      <td>4.218546</td>\n",
       "      <td>6.722362</td>\n",
       "    </tr>\n",
       "  </tbody>\n",
       "</table>\n",
       "</div>"
      ],
      "text/plain": [
       "         x1        x2\n",
       "1  5.630009  7.512250\n",
       "2  5.670683  7.458730\n",
       "3  5.897006  6.563924\n",
       "4  4.869269  2.120313\n",
       "5  4.218546  6.722362"
      ]
     },
     "execution_count": 141,
     "metadata": {},
     "output_type": "execute_result"
    },
    {
     "data": {
      "text/html": [
       "<div>\n",
       "<table border=\"1\" class=\"dataframe\">\n",
       "  <thead>\n",
       "    <tr style=\"text-align: right;\">\n",
       "      <th></th>\n",
       "      <th>x1</th>\n",
       "      <th>x2</th>\n",
       "    </tr>\n",
       "  </thead>\n",
       "  <tbody>\n",
       "    <tr>\n",
       "      <th>96</th>\n",
       "      <td>5.493625</td>\n",
       "      <td>2.647329</td>\n",
       "    </tr>\n",
       "    <tr>\n",
       "      <th>97</th>\n",
       "      <td>5.027075</td>\n",
       "      <td>7.995232</td>\n",
       "    </tr>\n",
       "    <tr>\n",
       "      <th>98</th>\n",
       "      <td>5.867227</td>\n",
       "      <td>3.298430</td>\n",
       "    </tr>\n",
       "    <tr>\n",
       "      <th>99</th>\n",
       "      <td>5.066360</td>\n",
       "      <td>7.968236</td>\n",
       "    </tr>\n",
       "    <tr>\n",
       "      <th>100</th>\n",
       "      <td>5.262701</td>\n",
       "      <td>7.770300</td>\n",
       "    </tr>\n",
       "  </tbody>\n",
       "</table>\n",
       "</div>"
      ],
      "text/plain": [
       "           x1        x2\n",
       "96   5.493625  2.647329\n",
       "97   5.027075  7.995232\n",
       "98   5.867227  3.298430\n",
       "99   5.066360  7.968236\n",
       "100  5.262701  7.770300"
      ]
     },
     "execution_count": 141,
     "metadata": {},
     "output_type": "execute_result"
    },
    {
     "data": {
      "text/html": [
       "<div>\n",
       "<table border=\"1\" class=\"dataframe\">\n",
       "  <thead>\n",
       "    <tr style=\"text-align: right;\">\n",
       "      <th></th>\n",
       "      <th>x1</th>\n",
       "      <th>x2</th>\n",
       "    </tr>\n",
       "  </thead>\n",
       "  <tbody>\n",
       "    <tr>\n",
       "      <th>count</th>\n",
       "      <td>100.000000</td>\n",
       "      <td>100.000000</td>\n",
       "    </tr>\n",
       "    <tr>\n",
       "      <th>mean</th>\n",
       "      <td>4.986061</td>\n",
       "      <td>4.903246</td>\n",
       "    </tr>\n",
       "    <tr>\n",
       "      <th>std</th>\n",
       "      <td>0.581357</td>\n",
       "      <td>2.451584</td>\n",
       "    </tr>\n",
       "    <tr>\n",
       "      <th>min</th>\n",
       "      <td>3.937646</td>\n",
       "      <td>1.851968</td>\n",
       "    </tr>\n",
       "    <tr>\n",
       "      <th>25%</th>\n",
       "      <td>4.424701</td>\n",
       "      <td>2.527775</td>\n",
       "    </tr>\n",
       "    <tr>\n",
       "      <th>50%</th>\n",
       "      <td>4.967987</td>\n",
       "      <td>4.038936</td>\n",
       "    </tr>\n",
       "    <tr>\n",
       "      <th>75%</th>\n",
       "      <td>5.474940</td>\n",
       "      <td>7.454534</td>\n",
       "    </tr>\n",
       "    <tr>\n",
       "      <th>max</th>\n",
       "      <td>6.138103</td>\n",
       "      <td>8.036144</td>\n",
       "    </tr>\n",
       "  </tbody>\n",
       "</table>\n",
       "</div>"
      ],
      "text/plain": [
       "               x1          x2\n",
       "count  100.000000  100.000000\n",
       "mean     4.986061    4.903246\n",
       "std      0.581357    2.451584\n",
       "min      3.937646    1.851968\n",
       "25%      4.424701    2.527775\n",
       "50%      4.967987    4.038936\n",
       "75%      5.474940    7.454534\n",
       "max      6.138103    8.036144"
      ]
     },
     "execution_count": 141,
     "metadata": {},
     "output_type": "execute_result"
    }
   ],
   "source": [
    "#Generative Model\n",
    "#number of points\n",
    "N = 100\n",
    "# Kernel\n",
    "w = 2 * np.random.rand(N) + 4\n",
    "# Noise for the x1\n",
    "epsilon1 = np.random.randn(N)\n",
    "#Noise for the x2\n",
    "epsilon2 = np.random.randn(N)\n",
    "x1 = w + epsilon1/11\n",
    "# sign \n",
    "sn = np.sign(np.random.randn(N))\n",
    "x2 = 5 + sn * np.sqrt(9 - (9 * (w - 5)**2)) - sn * epsilon2/13\n",
    "\n",
    "generated = {\"x1\": x1,\"x2\": x2}\n",
    "index = [i for i in range(1,N+1)]\n",
    "g_data = pd.DataFrame(data=generated,index=index)\n",
    "g_data.head()\n",
    "g_data.tail()\n",
    "g_data.describe()\n"
   ]
  },
  {
   "cell_type": "markdown",
   "metadata": {
    "deletable": true,
    "editable": true
   },
   "source": [
    "### 4. Visualize synthetic data to show that your model generates a 'similar dataset "
   ]
  },
  {
   "cell_type": "code",
   "execution_count": 142,
   "metadata": {
    "collapsed": false
   },
   "outputs": [
    {
     "data": {
      "image/png": "[encoded data removed]",
      "text/plain": [
       "<matplotlib.figure.Figure at 0x103f5ebe0>"
      ]
     },
     "metadata": {},
     "output_type": "display_data"
    }
   ],
   "source": [
    "_plot2 = sns.lmplot('x1', 'x2', \n",
    "           data=g_data, \n",
    "           fit_reg=False, \n",
    "           size=8,\n",
    "           scatter_kws={\"marker\": \"D\", \n",
    "                        \"s\": 100})\n",
    "axes = _plot2.axes\n",
    "axes[0,0].set_xlim(0,9);\n",
    "axes[0,0].set_ylim(0,9);"
   ]
  },
  {
   "cell_type": "markdown",
   "metadata": {
    "deletable": true,
    "editable": true
   },
   "source": [
    "### 5.  How can you assess if two datasets are similar? Discuss"
   ]
  },
  {
   "cell_type": "code",
   "execution_count": null,
   "metadata": {
    "collapsed": true,
    "deletable": true,
    "editable": true
   },
   "outputs": [],
   "source": []
  }
 ],
 "metadata": {
  "kernelspec": {
   "display_name": "Python 3",
   "language": "python",
   "name": "python3"
  },
  "language_info": {
   "codemirror_mode": {
    "name": "ipython",
    "version": 3
   },
   "file_extension": ".py",
   "mimetype": "text/x-python",
   "name": "python",
   "nbconvert_exporter": "python",
   "pygments_lexer": "ipython3",
   "version": "3.5.2"
  }
 },
 "nbformat": 4,
 "nbformat_minor": 2
}
