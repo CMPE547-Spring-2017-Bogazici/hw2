{
 "cells": [
  {
   "cell_type": "code",
   "execution_count": 2,
   "metadata": {
    "collapsed": true
   },
   "outputs": [],
   "source": [
    "%matplotlib inline\n",
    "import numpy as np\n",
    "import matplotlib as mpl\n",
    "import matplotlib.pylab as plt"
   ]
  },
  {
   "cell_type": "code",
   "execution_count": 3,
   "metadata": {
    "collapsed": false
   },
   "outputs": [],
   "source": [
    "x1 = np.loadtxt(\"C:/Users/Asus/Desktop/cmpe 547/hw2/x1.csv\")\n",
    "x2 = np.loadtxt(\"C:/Users/Asus/Desktop/cmpe 547/hw2/x2.csv\")\n"
   ]
  },
  {
   "cell_type": "markdown",
   "metadata": {},
   "source": [
    "# Q1"
   ]
  },
  {
   "cell_type": "code",
   "execution_count": 4,
   "metadata": {
    "collapsed": false
   },
   "outputs": [
    {
     "data": {
      "image/png": "[encoded data removed]",
      "text/plain": [
       "<matplotlib.figure.Figure at 0x7a5cb38>"
      ]
     },
     "metadata": {},
     "output_type": "display_data"
    }
   ],
   "source": [
    "plt.scatter(x1, x2)\n",
    "plt.axis('equal')\n",
    "plt.show()"
   ]
  },
  {
   "cell_type": "markdown",
   "metadata": {},
   "source": [
    "# Q2 , Q3 and Q4"
   ]
  },
  {
   "cell_type": "markdown",
   "metadata": {},
   "source": [
    " It resembles an ellipse centered at (5,5) with equation x1^2 + (x2/3)^2 = 1. It seems x-values of the points mostly concentrated around x=5. It also seems that errors are much smaller around x =5. In addition, errors seem to be mostly horizontal and this means errors of x1 dominates errors of x2. Hence, I can suggest a generative model as follows:\n",
    " "
   ]
  },
  {
   "cell_type": "raw",
   "metadata": {},
   "source": [
    "u = Uniform[0,1]\n",
    " x1 = cos(2*pi*u)  // I generate x1 in a way it can get value 0 with higher probability  x1 takes values between -1 and 1 \n",
    " x2 = sqrt(9-9x1^2)  // x2 takes only positive values, so I have to generate a discrete random variable to determine its sign. According to our model, x2 heavily depends on x1.\n",
    " \n",
    " e1= x1 * sigma1 * Normal(0,1)  // Generate error\n",
    " e2=  sigma2 * Normal(0,1)  // Generate error   "
   ]
  },
  {
   "cell_type": "code",
   "execution_count": 6,
   "metadata": {
    "collapsed": false
   },
   "outputs": [
    {
     "data": {
      "image/png": "[encoded data removed]",
      "text/plain": [
       "<matplotlib.figure.Figure at 0x7cf9080>"
      ]
     },
     "metadata": {},
     "output_type": "display_data"
    }
   ],
   "source": [
    "N = 100\n",
    "sigma1 = 0.15  \n",
    "sigma2 = 0.05\n",
    "a=np.sin(2*np.pi*np.random.rand(N))\n",
    "b= np.sqrt(9-9*a**2)\n",
    "a_error=np.random.randn(N)*sigma1*a\n",
    "b_error=np.random.randn(N)*sigma2\n",
    "a=a+a_error+5\n",
    "\n",
    "elements = [1,-1]\n",
    "prob = [0.5, 0.5]\n",
    "b= b*np.random.choice(elements, N,prob)\n",
    "b=b+b_error+5\n",
    "\n",
    "plt.axis('equal')\n",
    "plt.scatter(a,b)\n",
    "plt.show()"
   ]
  },
  {
   "cell_type": "markdown",
   "metadata": {},
   "source": [
    "# Q5"
   ]
  },
  {
   "cell_type": "markdown",
   "metadata": {
    "collapsed": true
   },
   "source": [
    "For similarity, I can compare the mean and variance of the datasets. I can also look at their histograms to see if they show a similar behaviour.  "
   ]
  },
  {
   "cell_type": "code",
   "execution_count": null,
   "metadata": {
    "collapsed": true
   },
   "outputs": [],
   "source": []
  }
 ],
 "metadata": {
  "kernelspec": {
   "display_name": "Python 2",
   "language": "python",
   "name": "python2"
  },
  "language_info": {
   "codemirror_mode": {
    "name": "ipython",
    "version": 2
   },
   "file_extension": ".py",
   "mimetype": "text/x-python",
   "name": "python",
   "nbconvert_exporter": "python",
   "pygments_lexer": "ipython2",
   "version": "2.7.13"
  }
 },
 "nbformat": 4,
 "nbformat_minor": 2
}
