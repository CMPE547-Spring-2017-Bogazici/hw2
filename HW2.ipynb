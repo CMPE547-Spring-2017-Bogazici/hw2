{
 "cells": [
  {
   "cell_type": "markdown",
   "metadata": {},
   "source": [
    "### Question1"
   ]
  },
  {
   "cell_type": "code",
   "execution_count": 111,
   "metadata": {
    "collapsed": false
   },
   "outputs": [
    {
     "data": {
      "image/png": "[encoded data removed]",
      "text/plain": [
       "<matplotlib.figure.Figure at 0x1187912b0>"
      ]
     },
     "metadata": {},
     "output_type": "display_data"
    }
   ],
   "source": [
    "import matplotlib.pyplot as plt\n",
    "import pylab\n",
    "\n",
    "x1 = []\n",
    "x2 = []\n",
    "content = []\n",
    "\n",
    "with open(\"data.txt\") as f:\n",
    "    content = f.readlines()\n",
    "    content = [x.strip() for x in content] \n",
    "\n",
    "for line in content:\n",
    "    l = line.split(\" \")\n",
    "    x1.append(l[0])\n",
    "    x2.append(l[1])\n",
    "\n",
    "plt.axis(\"equal\")\n",
    "plt.xlabel(\"x1\");\n",
    "plt.ylabel(\"x2\");\n",
    "plt.title(\"Joint disribution graph\")\n",
    "plt.scatter(x1,x2)\n",
    "plt.show()"
   ]
  },
  {
   "cell_type": "markdown",
   "metadata": {},
   "source": [
    "### Question2"
   ]
  },
  {
   "cell_type": "markdown",
   "metadata": {
    "collapsed": false
   },
   "source": [
    "The shape looks like an ellipse. For this reason, we can us the general equation of the ellipse to represent this distribution.\n",
    "\n",
    "$\\dfrac{(x-c_{1})^{2}}{a^{2}}+\\dfrac{(y-c_{2})^{2}}{b^{2}}=1$\n",
    "\n",
    "For the distribution above, x1 values vary from 4 to 6, whereas x2 vary from 2 to 8. The center of the ellipse approximately at (5,5) point. Based on this information, $a=1$ and $b=3$ in the general formula. We have the following formula: \n",
    "\n",
    "$\\dfrac{(x_{1}-5)^{2}}{1^{2}}+\\dfrac{(x_{2}-5)^{2}}{3^{2}}=1$\n",
    "\n",
    "Although, the distribution is almost ellipse shaped, we can see that the outliers in $x_{1}$ are more than the outliers in $x_{2}$. For this reason, we will give more error to $x_{1}$. We will use normally distributed errors for both $x_{1}$ and $x_{2}$"
   ]
  },
  {
   "cell_type": "markdown",
   "metadata": {
    "collapsed": true
   },
   "source": [
    "### Question3"
   ]
  },
  {
   "cell_type": "code",
   "execution_count": 136,
   "metadata": {
    "collapsed": false
   },
   "outputs": [
    {
     "data": {
      "image/png": "[encoded data removed]",
      "text/plain": [
       "<matplotlib.figure.Figure at 0x11c35eef0>"
      ]
     },
     "metadata": {},
     "output_type": "display_data"
    }
   ],
   "source": [
    "import matplotlib.pyplot as plt\n",
    "import pylab\n",
    "import numpy as np\n",
    "import pandas as pd\n",
    "\n",
    "N = 100      #sample size\n",
    "x1_1 = np.random.rand(N)*2+4;\n",
    "x2_1 = np.zeros(100)\n",
    "x2_1[0:50] = (np.sqrt(9-((x1_1[0:50]-5)**2)*9))+5;\n",
    "x2_1[51:101] = -(np.sqrt(9-((x1_1[51:101]-5)**2)*9))+5\n",
    "\n",
    "plt.axis(\"equal\")\n",
    "plt.xlabel(\"x1\");\n",
    "plt.ylabel(\"x2\");\n",
    "plt.title(\"Joint disribution graph\")\n",
    "plt.scatter(x1_1,x2_1)\n",
    "plt.show()"
   ]
  },
  {
   "cell_type": "markdown",
   "metadata": {},
   "source": [
    "### Question4"
   ]
  },
  {
   "cell_type": "code",
   "execution_count": 135,
   "metadata": {
    "collapsed": false
   },
   "outputs": [
    {
     "data": {
      "text/plain": [
       "array([ 1.,  2.,  3.])"
      ]
     },
     "execution_count": 135,
     "metadata": {},
     "output_type": "execute_result"
    }
   ],
   "source": []
  },
  {
   "cell_type": "code",
   "execution_count": null,
   "metadata": {
    "collapsed": true
   },
   "outputs": [],
   "source": []
  }
 ],
 "metadata": {
  "kernelspec": {
   "display_name": "Python 3",
   "language": "python",
   "name": "python3"
  },
  "language_info": {
   "codemirror_mode": {
    "name": "ipython",
    "version": 3
   },
   "file_extension": ".py",
   "mimetype": "text/x-python",
   "name": "python",
   "nbconvert_exporter": "python",
   "pygments_lexer": "ipython3",
   "version": "3.6.0"
  }
 },
 "nbformat": 4,
 "nbformat_minor": 2
}
