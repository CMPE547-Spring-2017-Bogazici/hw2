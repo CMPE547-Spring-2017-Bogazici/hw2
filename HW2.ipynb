{
 "cells": [
  {
   "cell_type": "markdown",
   "metadata": {
    "deletable": true,
    "editable": true
   },
   "source": [
    "# Generative Models"
   ]
  },
  {
   "cell_type": "markdown",
   "metadata": {
    "deletable": true,
    "editable": true
   },
   "source": [
    "## Visualizing Dataset"
   ]
  },
  {
   "cell_type": "code",
   "execution_count": 2,
   "metadata": {
    "collapsed": true,
    "deletable": true,
    "editable": true
   },
   "outputs": [],
   "source": [
    "import numpy as np\n",
    "import pandas as pd\n",
    "\n",
    "data = pd.read_csv('data.csv', sep=',')"
   ]
  },
  {
   "cell_type": "code",
   "execution_count": 3,
   "metadata": {
    "collapsed": false,
    "deletable": true,
    "editable": true,
    "scrolled": false
   },
   "outputs": [
    {
     "data": {
      "image/png": "[encoded data removed]",
      "text/plain": [
       "<matplotlib.figure.Figure at 0x10c3f3c88>"
      ]
     },
     "metadata": {},
     "output_type": "display_data"
    }
   ],
   "source": [
    "%matplotlib inline\n",
    "import matplotlib as mpl\n",
    "import matplotlib.pylab as plt\n",
    "from mpl_toolkits.axes_grid1 import make_axes_locatable\n",
    "\n",
    "x = [T[0] for T in data.values]\n",
    "y = [T[1] for T in data.values]\n",
    "\n",
    "fig, axScatter = plt.subplots(figsize=(5.5, 5.5))\n",
    "\n",
    "plt.xlabel('x')\n",
    "plt.ylabel('y')\n",
    "\n",
    "axScatter.scatter(x, y)\n",
    "axScatter.set_aspect(1.)\n",
    "\n",
    "divider = make_axes_locatable(axScatter)\n",
    "axHistx = divider.append_axes(\"top\", 1.2, pad=0.1, sharex=axScatter)\n",
    "axHisty = divider.append_axes(\"right\", 1.2, pad=0.1, sharey=axScatter)\n",
    "\n",
    "plt.setp(axHistx.get_xticklabels() + axHisty.get_yticklabels(), visible=False)\n",
    "\n",
    "binwidth = 0.05\n",
    "xymax = np.max([np.max(np.fabs(x)), np.max(np.fabs(y))])\n",
    "lim = (int(xymax/binwidth) + 1)*binwidth\n",
    "\n",
    "bins = np.arange(0, lim + binwidth, binwidth)\n",
    "axHistx.hist(x, bins=np.arange(np.min(x) - binwidth, np.max(x) + binwidth, binwidth))\n",
    "axHisty.hist(y, bins=np.arange(np.min(y) - binwidth, np.max(y) + binwidth, binwidth), orientation='horizontal')\n",
    "\n",
    "for tl in axHistx.get_xticklabels():\n",
    "    tl.set_visible(False)\n",
    "axHistx.set_yticks([0, 5, 10])\n",
    "\n",
    "for tl in axHisty.get_yticklabels():\n",
    "    tl.set_visible(False)\n",
    "axHisty.set_xticks([0, 10, 20])\n",
    "\n",
    "plt.draw()\n",
    "plt.show()"
   ]
  },
  {
   "cell_type": "code",
   "execution_count": 5,
   "metadata": {
    "collapsed": false,
    "deletable": true,
    "editable": true
   },
   "outputs": [
    {
     "name": "stderr",
     "output_type": "stream",
     "text": [
      "/usr/local/lib/python3.5/site-packages/ipykernel/__main__.py:8: VisibleDeprecationWarning: using a non-integer number instead of an integer will result in an error in the future\n",
      "/usr/local/lib/python3.5/site-packages/ipykernel/__main__.py:9: VisibleDeprecationWarning: using a non-integer number instead of an integer will result in an error in the future\n"
     ]
    },
    {
     "data": {
      "image/png": "[encoded data removed]",
      "text/plain": [
       "<matplotlib.figure.Figure at 0x109cce780>"
      ]
     },
     "metadata": {},
     "output_type": "display_data"
    }
   ],
   "source": [
    "sample_size = 100\n",
    "\n",
    "mux, muy = np.mean(data.values, axis=0)\n",
    "\n",
    "a = (np.max(x) - np.min(x)) / 2\n",
    "b = (np.max(y) - np.min(y)) / 2\n",
    "\n",
    "up = np.random.normal(np.pi / 2, np.pi * .25, sample_size / 2)\n",
    "down = np.random.normal(-np.pi / 2, np.pi * .25, sample_size / 2)\n",
    "\n",
    "selection = np.concatenate((down, up), axis=0)\n",
    "ellipse_x = a * np.cos(selection) + mux + np.random.normal(0, .1, sample_size)\n",
    "ellipse_y = b * np.sin(selection) + muy + np.random.normal(0, .1, sample_size)\n",
    "\n",
    "fig, axScatter = plt.subplots(figsize=(5.5, 5.5))\n",
    "\n",
    "plt.xlabel('x')\n",
    "plt.ylabel('y')\n",
    "\n",
    "axScatter.scatter(x, y)\n",
    "axScatter.scatter(ellipse_x, ellipse_y)\n",
    "axScatter.set_aspect(1.)\n",
    "\n",
    "divider = make_axes_locatable(axScatter)\n",
    "axHistx = divider.append_axes(\"top\", 1.2, pad=0.1, sharex=axScatter)\n",
    "axHisty = divider.append_axes(\"right\", 1.2, pad=0.1, sharey=axScatter)\n",
    "\n",
    "plt.setp(axHistx.get_xticklabels() + axHisty.get_yticklabels(), visible=False)\n",
    "\n",
    "binwidth = 0.20\n",
    "xymax = np.max([np.max(np.fabs(x)), np.max(np.fabs(y))])\n",
    "lim = (int(xymax/binwidth) + 1)*binwidth\n",
    "\n",
    "bins = np.arange(0, lim + binwidth, binwidth)\n",
    "axHistx.hist([x, ellipse_x], bins=np.arange(np.min(x) - binwidth, np.max(x) + binwidth, binwidth))\n",
    "axHisty.hist([y, ellipse_y], bins=np.arange(np.min(y) - binwidth, np.max(y) + binwidth, binwidth), orientation='horizontal')\n",
    "\n",
    "for tl in axHistx.get_xticklabels():\n",
    "    tl.set_visible(False)\n",
    "axHistx.set_yticks([0, 5, 10])\n",
    "\n",
    "for tl in axHisty.get_yticklabels():\n",
    "    tl.set_visible(False)\n",
    "axHisty.set_xticks([0, 10, 20])\n",
    "\n",
    "plt.draw()\n",
    "plt.show()"
   ]
  },
  {
   "cell_type": "code",
   "execution_count": null,
   "metadata": {
    "collapsed": true
   },
   "outputs": [],
   "source": []
  }
 ],
 "metadata": {
  "kernelspec": {
   "display_name": "Python 3",
   "language": "python",
   "name": "python3"
  },
  "language_info": {
   "codemirror_mode": {
    "name": "ipython",
    "version": 3
   },
   "file_extension": ".py",
   "mimetype": "text/x-python",
   "name": "python",
   "nbconvert_exporter": "python",
   "pygments_lexer": "ipython3",
   "version": "3.5.1"
  }
 },
 "nbformat": 4,
 "nbformat_minor": 2
}
