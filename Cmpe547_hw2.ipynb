{
 "cells": [
  {
   "cell_type": "code",
   "execution_count": 1,
   "metadata": {
    "collapsed": false
   },
   "outputs": [
    {
     "data": {
      "image/png": "[encoded data removed]",
      "text/plain": [
       "<matplotlib.figure.Figure at 0x1068d9ef0>"
      ]
     },
     "metadata": {},
     "output_type": "display_data"
    }
   ],
   "source": [
    "#HW PART 1\n",
    "import matplotlib.pyplot as plt\n",
    "\n",
    "x = []\n",
    "y = []\n",
    "infile = open('data.in')\n",
    "for line in infile:\n",
    "    x.append(line.split(' ')[0])\n",
    "    y.append(line.split(' ')[1])\n",
    "plt.scatter(x, y)\n",
    "plt.show()"
   ]
  },
  {
   "cell_type": "markdown",
   "metadata": {},
   "source": [
    "#HW Part 2:\n",
    "\n",
    "Image seems like an ellipse shifted version of x^2+y^2/9 = 1 (x's shifted +5 and y's shifted +5). And there are some outliers. So we can generate x between -1 and 1 uniformly(visualization of image is reference for uniformity) and y from this formula then put some noise in it.\n",
    "\n",
    "We can give noises using normal distribution with expectation 0 and with small variance because we do not want too much noise as the visualization is clear.\n",
    "\n",
    "We can give x's more noise than y's because from the image we see x's differ more."
   ]
  },
  {
   "cell_type": "code",
   "execution_count": 2,
   "metadata": {
    "collapsed": false
   },
   "outputs": [
    {
     "name": "stdout",
     "output_type": "stream",
     "text": [
      "0.0\n"
     ]
    },
    {
     "data": {
      "image/png": "[encoded data removed]",
      "text/plain": [
       "<matplotlib.figure.Figure at 0x102bb17b8>"
      ]
     },
     "metadata": {},
     "output_type": "display_data"
    }
   ],
   "source": [
    "#HW Part 3 and Part 4\n",
    "import numpy as np\n",
    "\n",
    "\n",
    "mu_x    = 0 \n",
    "sigma_x = 0.1\n",
    "mu_y    = 0\n",
    "sigma_y = 0.01\n",
    "\n",
    "gen_x = []\n",
    "gen_y = []\n",
    "\n",
    "print(np.sqrt(0))\n",
    "\n",
    "for i in range(0,50):\n",
    "    x = np.random.uniform(-1,1)\n",
    "    y = np.sqrt((1-np.power(x,2))*9)\n",
    "    gen_x.append(x + np.random.normal(mu_x,sigma_x)+5)\n",
    "    gen_y.append(y + np.random.normal(mu_y,sigma_y)+5)\n",
    "    gen_x.append(x + np.random.normal(mu_x,sigma_x)+5)\n",
    "    gen_y.append(np.random.normal(mu_y,sigma_y)+5-y)\n",
    "\n",
    "plt.scatter(gen_x, gen_y)\n",
    "plt.show()"
   ]
  },
  {
   "cell_type": "markdown",
   "metadata": {},
   "source": [
    "#Hw Part3:\n",
    "\n",
    "\n",
    "We can use various methods for comparing if the two data set are similar.\n",
    "\n",
    "     - Most basically we can compare mean and variance of both x's and y's for two distribution\n",
    "     - We can perform kolmogorov simirnov test on both x and y vectors for real and generated data.\n",
    "     - Assuming we have same amount of generated data with real data, we can sort x's and y's then we can calculate (gen_x[i] - x[i])^2 and (gen_y[i]-y[i])^2 smaller these numbers are closer two data sets.\n"
   ]
  }
 ],
 "metadata": {
  "anaconda-cloud": {},
  "kernelspec": {
   "display_name": "Python [conda env:cmpe_482]",
   "language": "python",
   "name": "conda-env-cmpe_482-py"
  },
  "language_info": {
   "codemirror_mode": {
    "name": "ipython",
    "version": 3
   },
   "file_extension": ".py",
   "mimetype": "text/x-python",
   "name": "python",
   "nbconvert_exporter": "python",
   "pygments_lexer": "ipython3",
   "version": "3.6.0"
  }
 },
 "nbformat": 4,
 "nbformat_minor": 1
}
