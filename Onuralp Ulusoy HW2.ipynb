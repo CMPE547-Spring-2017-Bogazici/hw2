{
 "cells": [
  {
   "cell_type": "markdown",
   "metadata": {
    "deletable": true,
    "editable": true
   },
   "source": [
    "# CMPE547 HOMEWORK #2\n",
    "## ONURALP ULUSOY\n",
    "2016800030\n"
   ]
  },
  {
   "cell_type": "markdown",
   "metadata": {
    "deletable": true,
    "editable": true
   },
   "source": [
    "# Dataset Visualization"
   ]
  },
  {
   "cell_type": "code",
   "execution_count": 1,
   "metadata": {
    "collapsed": false,
    "deletable": true,
    "editable": true
   },
   "outputs": [
    {
     "data": {
      "image/png": "[encoded data removed]",
      "text/plain": [
       "<matplotlib.figure.Figure at 0x7b0a190>"
      ]
     },
     "metadata": {},
     "output_type": "display_data"
    }
   ],
   "source": [
    "import matplotlib.pyplot as plt\n",
    "import numpy as np\n",
    "\n",
    "\n",
    "file = np.loadtxt(\"./DataSet.txt\",skiprows=1)\n",
    "x1 = file[:,0]\n",
    "x2 = file[:,1]\n",
    "plt.figure(figsize=(4,4))\n",
    "plt.xlabel('x1')\n",
    "plt.ylabel('x2')\n",
    "plt.scatter(x1,x2)\n",
    "plt.show()"
   ]
  },
  {
   "cell_type": "markdown",
   "metadata": {
    "deletable": true,
    "editable": true
   },
   "source": [
    "# Generative Model"
   ]
  },
  {
   "cell_type": "markdown",
   "metadata": {
    "deletable": true,
    "editable": true
   },
   "source": [
    "## Model Proposal"
   ]
  },
  {
   "cell_type": "markdown",
   "metadata": {
    "deletable": true,
    "editable": true
   },
   "source": [
    "Plot gives an elliptic shape, with (5,5) being the center of the ellipse, [4,6] being the range of x1 parameter and [2,8] being the range of x2 parameter of the given dataset. The equation of an ellipse whose major axis can be shown as: \n",
    "$$(x/a)^2 + (y/b)^2 = 1$$\n",
    "where the ellipse is scaled by a factor of a in the x direction and a factor of b in the y direction. According to the given dataset, a=1 and b=3 can be assigned as scaling factors to generate a similar model. Since the given dataset isn't an absolute ellipse, noise should be taken into consideration for the model. The noise values r1 (noise for x1) and r2 (noise for x2) are selected as uniform distributions in range of [0.05,0.01] and square roots of these parameters are used in the equation.\n",
    "To sample data from the generative model, x1 is selected from a normal distribution with a range of [4,6], with addition of noise $\\sqrt{r1}$. According to x1 values, x2 values are calculated from the ellipse equation, also with a noise $\\sqrt{r2}$"
   ]
  },
  {
   "cell_type": "markdown",
   "metadata": {
    "deletable": true,
    "editable": true
   },
   "source": [
    "## Model Implementation"
   ]
  },
  {
   "cell_type": "code",
   "execution_count": 2,
   "metadata": {
    "collapsed": false,
    "deletable": true,
    "editable": true
   },
   "outputs": [
    {
     "name": "stdout",
     "output_type": "stream",
     "text": [
      "(4.5300435583754455, 7.6648647832195254)\n",
      "(4.6846068660464466, 7.8689928310334043)\n",
      "(4.3037019463794177, 7.1828481584894313)\n",
      "(4.7451961609220676, 2.0770440531202281)\n",
      "(4.3532666848609747, 7.3342322609422697)\n",
      "(5.6672693460535815, 7.2766329084552499)\n",
      "(5.2419822243546665, 2.0780005831159754)\n",
      "(5.7120815959398534, 2.8767246932072177)\n",
      "(4.1728747761926384, 3.2743026042810093)\n",
      "(5.4871660232032573, 7.630924490592883)\n",
      "(4.4413285578692365, 7.5326794831718544)\n",
      "(5.6568793431581472, 2.7154547549464838)\n",
      "(5.5043301466222117, 2.3958086765126261)\n",
      "(5.2191425073612017, 2.0295397960053574)\n",
      "(5.0324007435920715, 8.0459564648250037)\n",
      "(5.8125872592968113, 6.7900642111543705)\n",
      "(4.5447541018222211, 2.2805296128677583)\n",
      "(4.2610587386213155, 2.9384348922527863)\n",
      "(4.6599356306163875, 2.1358581411516098)\n",
      "(4.4950475899897668, 7.6325535191345333)\n",
      "(5.5657943057967554, 7.4963433064734524)\n",
      "(5.5558638253821657, 2.4577200561847001)\n",
      "(4.8328444341140795, 7.9898411452044966)\n",
      "(5.5001010016021405, 7.6115540217998383)\n",
      "(5.6025872845708813, 7.4397860808332128)\n",
      "(4.5824531309956233, 7.7507932862717865)\n",
      "(4.9980454535356085, 8.0292455988899167)\n",
      "(5.1522624576607932, 2.0226972244558614)\n",
      "(5.7245824532207452, 2.9200926880716698)\n",
      "(5.0510015533280352, 1.9886384835911455)\n",
      "(5.5865966473338116, 2.5504873193413187)\n",
      "(4.5074314966526412, 7.6216580244192249)\n",
      "(5.812315582256395, 6.7626165896265276)\n",
      "(5.3932511785713073, 7.7790751901138817)\n",
      "(4.7564877537749233, 2.0704057812110537)\n",
      "(4.0894937330159422, 3.7209740172990076)\n",
      "(5.5842546317370889, 2.5191723507060724)\n",
      "(4.8387809960680563, 7.9817018363273782)\n",
      "(5.7719828391161672, 3.0803411155367639)\n",
      "(5.4400430289290185, 2.2782768664782949)\n",
      "(4.2832937892744019, 7.1091267044556572)\n",
      "(5.4052012024039122, 7.7581986526226077)\n",
      "(4.7585646882803019, 2.0665626494944447)\n",
      "(4.2188446949233898, 3.1099281465296551)\n",
      "(4.2316398420496881, 3.0413712764946634)\n",
      "(5.0655926073133815, 8.0376453146807147)\n",
      "(5.675184080278493, 7.2382383814805724)\n",
      "(4.6318954520295801, 7.8113173693111451)\n",
      "(4.9950740089567622, 1.9519505029570505)\n",
      "(4.3061831833523945, 7.1845929463799099)\n",
      "(5.573722021864044, 2.529014937781255)\n",
      "(5.1098386280258099, 1.9896380793818207)\n",
      "(5.5459590231990665, 7.5300877848900845)\n",
      "(4.7255135029784512, 2.1018473672363491)\n",
      "(5.0709807333963042, 8.0229614897009736)\n",
      "(4.5774048660213307, 2.2325316673966404)\n",
      "(5.3326826402871585, 2.1510566629171799)\n",
      "(5.2557492139980067, 2.0781629000977171)\n",
      "(4.0017891896535156, 4.7956311051283835)\n",
      "(4.1982617855469506, 3.1628674719936436)\n",
      "(4.140218348337986, 3.4294112963648042)\n",
      "(4.3144111097620144, 2.7682689777088907)\n",
      "(5.135598910429322, 7.9950362655414269)\n",
      "(4.6561822891478188, 7.8360971664110233)\n",
      "(4.5106909202343948, 7.6468198964926817)\n",
      "(5.3061170754951741, 2.1107566842239427)\n",
      "(4.5581737258032993, 2.2889527956247413)\n",
      "(4.1347101987959558, 3.4598918534193794)\n",
      "(4.1945223637229097, 3.2057861931770901)\n",
      "(5.2228258475609737, 2.0406583334775554)\n",
      "(5.0763949841092222, 8.0039786699411479)\n",
      "(4.5315768284218203, 2.3049392270942164)\n",
      "(4.4898324251774975, 2.3841216180288738)\n",
      "(5.0737254744531732, 1.9871100176537582)\n",
      "(4.5536507376612931, 2.2894961535657141)\n",
      "(4.0905572474389427, 3.7285368863507933)\n",
      "(4.6139440745868256, 7.8104314213044841)\n",
      "(5.323223073820432, 2.1314910881485036)\n",
      "(5.7170121337454169, 2.8709820234543373)\n",
      "(5.6289534426740682, 7.3738199278346102)\n",
      "(4.849649975237714, 1.9929978297444526)\n",
      "(4.3010022340052094, 7.1875166645894044)\n",
      "(4.0223537302172634, 4.3311997553904273)\n",
      "(5.867653985734993, 6.5270932013475145)\n",
      "(4.0326329878337717, 5.7948345863310324)\n",
      "(4.494966329368002, 2.3957387148117486)\n",
      "(6.0112152993278949, 5.4944622048804419)\n",
      "(5.9867286854496822, 5.5109265073733322)\n",
      "(4.7496559432895067, 2.0835266704669468)\n",
      "(5.4014456898201502, 2.2391334759813826)\n",
      "(4.3243964693672474, 2.7500994498360027)\n",
      "(5.6957101134234458, 7.2011833816242801)\n",
      "(5.802915248869267, 3.1734272367052587)\n",
      "(4.7503415108503448, 7.9488424974253178)\n",
      "(4.6450550518408136, 7.8186031822796265)\n",
      "(4.4642640134432456, 7.5547549959201259)\n",
      "(5.9520572793527053, 4.0364757354957961)\n",
      "(4.8367196078662467, 2.0022863170077909)\n",
      "(5.052682670968963, 8.019171343605402)\n",
      "(4.6172211455414791, 2.2174416403468009)\n"
     ]
    }
   ],
   "source": [
    "#N=Number of Sample Elements\n",
    "N = 100\n",
    "#a and b are ellipse scale factors\n",
    "a = 1\n",
    "b = 3\n",
    "#r1 and r2 are noise values\n",
    "r1 = np.random.uniform(0.05, 0.01, N)\n",
    "r2 = np.random.uniform(0.05, 0.01, N)\n",
    "#random sign for noise values\n",
    "sign = np.sign(np.random.randn(N)) \n",
    "#x1 is selected from a random normal distribution\n",
    "x1 = 2*np.random.rand(N)+4 + r1*sign\n",
    "#x2 is calculated accroding to x1 and ellipse equation (a^2=1 and b^2=9 are used with calculated values in the formula), considering the center is at (5,5) point\n",
    "x2 = 5 + sign * np.sqrt(np.abs(9  - (9 * np.square((x1 - 5))))) + r2*sign\n",
    "#sample data from the model\n",
    "for i in range(N):\n",
    "    print(x1[i] , x2[i])"
   ]
  },
  {
   "cell_type": "markdown",
   "metadata": {
    "deletable": true,
    "editable": true
   },
   "source": [
    "## Synthetic Data Visualization"
   ]
  },
  {
   "cell_type": "code",
   "execution_count": 3,
   "metadata": {
    "collapsed": false,
    "deletable": true,
    "editable": true
   },
   "outputs": [
    {
     "data": {
      "image/png": "[encoded data removed]",
      "text/plain": [
       "<matplotlib.figure.Figure at 0x7d0b570>"
      ]
     },
     "metadata": {},
     "output_type": "display_data"
    }
   ],
   "source": [
    "plt.figure(figsize=(4,4))\n",
    "plt.xlabel('x1')\n",
    "plt.ylabel('x2')\n",
    "plt.scatter(x1,x2)\n",
    "plt.show()"
   ]
  },
  {
   "cell_type": "markdown",
   "metadata": {
    "deletable": true,
    "editable": true
   },
   "source": [
    "# Dataset Similarity Discussion"
   ]
  },
  {
   "cell_type": "markdown",
   "metadata": {
    "deletable": true,
    "editable": true
   },
   "source": [
    "Two datasets can be compared with their mean, variance or correlation coefficient values. If the mean and variance values both similar in the data sets, they can be considered similar. Correlation coefficient, which can be considered as normalized version of the covariance is also useful to find out if the variables in datasets tend to show similar behavior."
   ]
  }
 ],
 "metadata": {
  "kernelspec": {
   "display_name": "Python 2",
   "language": "python",
   "name": "python2"
  },
  "language_info": {
   "codemirror_mode": {
    "name": "ipython",
    "version": 2
   },
   "file_extension": ".py",
   "mimetype": "text/x-python",
   "name": "python",
   "nbconvert_exporter": "python",
   "pygments_lexer": "ipython2",
   "version": "2.7.8"
  }
 },
 "nbformat": 4,
 "nbformat_minor": 2
}
