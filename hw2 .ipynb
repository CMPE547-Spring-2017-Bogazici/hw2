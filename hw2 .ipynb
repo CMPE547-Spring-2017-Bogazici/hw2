{
 "cells": [
  {
   "cell_type": "markdown",
   "metadata": {},
   "source": [
    "### TASK 1\n",
    "\n",
    "Following code snippet visualizes the original-data points.\n"
   ]
  },
  {
   "cell_type": "code",
   "execution_count": 179,
   "metadata": {
    "collapsed": false
   },
   "outputs": [
    {
     "name": "stdout",
     "output_type": "stream",
     "text": [
      "100\n"
     ]
    },
    {
     "data": {
      "text/plain": [
       "[<matplotlib.lines.Line2D at 0x2142213b588>]"
      ]
     },
     "execution_count": 179,
     "metadata": {},
     "output_type": "execute_result"
    },
    {
     "data": {
      "image/png": "[encoded data removed]",
      "text/plain": [
       "<matplotlib.figure.Figure at 0x21422098c88>"
      ]
     },
     "metadata": {},
     "output_type": "display_data"
    }
   ],
   "source": [
    "%matplotlib inline\n",
    "import numpy as np\n",
    "import matplotlib.pyplot as plt\n",
    "\n",
    "x1=[]\n",
    "x2=[]\n",
    "\n",
    "with open(\"data.txt\", 'r') as f:\n",
    "    data = f.readlines()\n",
    "for line in data:\n",
    "    points=line.split()\n",
    "    x1.append(points[0])\n",
    "    x2.append(points[1])\n",
    "    plt.axis('equal')\n",
    "plt.xlabel('x1')\n",
    "plt.ylabel('x2')\n",
    "print(l)\n",
    "plt.plot(x1,x2, '.m')"
   ]
  },
  {
   "cell_type": "markdown",
   "metadata": {},
   "source": [
    "### TASK 2\n",
    "\n",
    "First if we neglect the noise in the data for a moment , it is evident that these data points satisfy the following elliptic equation,\n",
    "\n",
    "$$(x-5)^2+\\frac{(y-5)^2}{9} = 1$$\n",
    "                                    \n",
    "\n",
    "According to this equation \n",
    "\n",
    "$$y=5\\pm \\sqrt{9-9\\cdot(x-5)^2}$$\n",
    "\n",
    "So what we could to to generate a similar dataset is to choose random $x_1$ values unfiromly and calculate the $x_2$ values. Here my guess is data is distributed uniformly over the ellipse, that is why $x_1$ is chosen uniformly. Here for each $x_1$ coordinate, $x_2$ can take two different values depending on the sign of the square root. Therefore we could also choose the sign randomly for each $x_2$. \n",
    "\n",
    "I propose the folowing generative model, \n",
    "$$k= \\sim \\mathcal U(4,6)$$\n",
    "\n",
    "$$x_1= k+ \\frac{\\epsilon_1}{10}$$\n",
    "\n",
    "$$x_2=5+ sign\\cdot \\sqrt{9-9\\cdot(k-5)^2} -sign\\cdot \\frac{\\epsilon_2}{5}$$\n",
    "\n",
    "$$\\epsilon_1 \\sim \\mathcal{N}(x;0,1)$$\n",
    "\n",
    "$$\\epsilon_2 \\sim \\mathcal{U}(x;0,1)$$\n",
    "\n",
    "$$sign \\in[-1;\\frac{1}{2},1;\\frac{1}{2}] $$\n",
    "\n",
    "I deliberately choose $\\epsilon_1$ from normal distribution and $\\epsilon_2$ from uniform distribution since it seems there is no outward noise in $x_2$ and so noise should be given according to sign of the square root term. "
   ]
  },
  {
   "cell_type": "markdown",
   "metadata": {},
   "source": [
    "### TASK 3\n",
    "\n",
    "The following code snippet is the implementation of the proposed generative model."
   ]
  },
  {
   "cell_type": "code",
   "execution_count": 175,
   "metadata": {
    "collapsed": false
   },
   "outputs": [
    {
     "name": "stdout",
     "output_type": "stream",
     "text": [
      "x =  [ 5.91944827  4.43401075  4.75792759  4.09333164  5.25705845  5.96992173\n",
      "  4.5382771   4.99381359  5.76572738  4.6509288   5.62092969  5.45543999\n",
      "  4.13339232  4.18081586  5.38425413  4.18704321  5.69386144  5.19127846\n",
      "  5.44686278  4.85587581  4.94870916  5.0835376   4.63284141  4.33145206\n",
      "  4.17936395  4.29222249  4.03253914  5.55671222  4.02513512  5.04002409\n",
      "  4.09270062  4.35339188  4.70483822  4.9094578   4.62316033  5.18141231\n",
      "  4.02249534  4.46969229  4.27398297  5.60693232  5.91825201  4.6945083\n",
      "  3.99523102  4.36623867  5.69912392  5.56835232  5.05486697  5.09316239\n",
      "  5.03182903  4.35444178  5.71362236  4.8451373   4.50267994  5.2481796\n",
      "  5.74400567  4.71590401  4.59752382  4.18931932  4.49453957  5.40420767\n",
      "  4.89875369  5.84303752  5.21839038  5.40638946  4.33627051  5.23836178\n",
      "  4.83871461  4.36213134  4.89145248  4.02749935  4.50751349  4.25408528\n",
      "  5.63711074  5.91649605  4.7718619   5.56427317  5.4476854   4.83946745\n",
      "  4.6960169   5.60465199  4.8741247   5.76145814  4.3017877   5.58712134\n",
      "  5.20181601  5.27079465  5.34920434  5.8478523   5.17477143  4.59375792\n",
      "  5.33757972  5.47882401  4.17869823  4.66134253  4.80357372  6.03613916\n",
      "  4.74304132  5.71723061  5.01984093  4.55689295] \n",
      " y =  [ 5.65117207  2.30493998  7.72689566  3.36159486  7.75067254  6.48456361\n",
      "  7.64623856  7.81549359  3.86264505  2.22269057  7.57391364  2.29797177\n",
      "  3.95459688  6.31618271  2.58884065  3.70640708  7.51378795  7.80287994\n",
      "  7.70005765  7.79428251  7.83878762  7.87958548  2.17695232  3.23904743\n",
      "  3.30853055  7.37476241  6.23128772  2.69941683  5.72217048  7.87965325\n",
      "  3.11361911  3.08905146  2.29187885  7.95937134  2.30021783  7.79807998\n",
      "  4.15135741  2.80565755  7.12107459  2.40628857  6.44840029  7.7845834\n",
      "  6.74790076  6.81120273  6.78266223  7.57174018  7.94796587  2.05579604\n",
      "  2.31127745  7.39623859  3.54786701  7.82162658  2.19699393  7.69835524\n",
      "  3.0448266   2.39322067  2.43848042  3.08295158  7.6037977   2.53610068\n",
      "  7.79630082  3.2800194   2.14673317  2.66968504  3.04949698  2.21821988\n",
      "  2.31981211  6.61055677  7.95528131  5.73912445  2.47971681  7.36187797\n",
      "  7.50020895  3.23069564  7.75509639  6.93191185  2.20097508  2.13814292\n",
      "  2.10151055  7.61972559  2.17454819  2.76778734  7.042222    7.30948658\n",
      "  7.75932114  7.60498806  2.51668299  6.42180088  2.11333552  2.4888316\n",
      "  2.31259913  2.38612128  3.03166338  2.34025356  7.6954486   6.20879015\n",
      "  7.66865956  3.78734772  2.14402994  2.42548573]\n"
     ]
    }
   ],
   "source": [
    "%matplotlib inline\n",
    "import numpy as np\n",
    "import matplotlib.pyplot as plt\n",
    "\n",
    "N = 100                                                 #Number of data-points\n",
    "k=2*np.random.rand(N)+4                                 #Generate kernel.\n",
    "epsilon1=np.random.randn(N)                             #Noise for x1\n",
    "epsilon2=np.random.rand(N)                              #Noise for x2\n",
    "x1=k+epsilon1/10                                        #Compute x1\n",
    "sign=np.sign(np.random.randn(N));                       #For each x1, there are two possible x2 points. Choose one.\n",
    "x2=5+sign*np.sqrt(9*(1-(k-5)**2))-sign*epsilon2/5;      #Compute x2.\n",
    "\n",
    "\n",
    "print(\"x = \",x1,\"\\n y = \",x2)\n"
   ]
  },
  {
   "cell_type": "markdown",
   "metadata": {},
   "source": [
    "### TASK 4\n",
    "\n",
    "Following code snippet visualizes the dataset generated by our proposed genrative model."
   ]
  },
  {
   "cell_type": "code",
   "execution_count": 178,
   "metadata": {
    "collapsed": false
   },
   "outputs": [
    {
     "data": {
      "text/plain": [
       "[<matplotlib.lines.Line2D at 0x21422142eb8>]"
      ]
     },
     "execution_count": 178,
     "metadata": {},
     "output_type": "execute_result"
    },
    {
     "data": {
      "image/png": "[encoded data removed]",
      "text/plain": [
       "<matplotlib.figure.Figure at 0x2142205cc18>"
      ]
     },
     "metadata": {},
     "output_type": "display_data"
    }
   ],
   "source": [
    "%matplotlib inline\n",
    "import numpy as np\n",
    "import matplotlib.pyplot as plt\n",
    "\n",
    "N = 100                                                 #Number of data-points\n",
    "k=2*np.random.rand(N)+4                                 #Generate kernel.\n",
    "epsilon1=np.random.randn(N)                             #Noise for x1\n",
    "epsilon2=np.random.rand(N)                              #Noise for x2\n",
    "x1=k+epsilon1/10                                        #Compute x1\n",
    "sign=np.sign(np.random.randn(N));                       #For each x1, there are two possible x2 points. Choose one.\n",
    "x2=5+sign*np.sqrt(9*(1-(k-5)**2))-sign*epsilon2/5;      #Compute x2.\n",
    "\n",
    "\n",
    "plt.axis('equal')\n",
    "\n",
    "plt.plot(x1,x2, '.m')"
   ]
  },
  {
   "cell_type": "markdown",
   "metadata": {},
   "source": [
    "### TASK 5\n",
    "\n",
    "\n",
    "1. We could compare the statistical parameters of the datasets such as mean and correlation. If the mean of both datasets are far away from each other, this could be implication of the fact that datapoints are not close to each other. However if means are very close, we cannot immediately come to conclusion that datasets are similar. We need further investigation. We may compare the correlations to get an idea about how the components of the data are correlated in the both dataset. If for one dataset correlation is positive, and negative for the other this could imply that the points are likely drawn from different sample populations because they don't behave similar. Of course there is always noise in the data which forces us to be less strict to make such a decision. Therefore noise removal could be useful for task requring higher accuracy levels.   \n",
    "\n",
    "2. If we want to make binary judgements, similar or not similar, we can first hypothesize that these two datasets are drawn from the same sample population. Then we can calculate a confidence interval for some statistical parameters such as difference of the means or proportion of variances. If the confidence interval is satisfying our accuracy we can say that these datasets are similar, otherwise we say it is not similar.\n",
    "\n",
    "3. Developing machine learning classifier algorithms, we can classify the datasets using a specific criterion. If the dataasets fall into same class, we can say that they are similar.  \n"
   ]
  }
 ],
 "metadata": {
  "kernelspec": {
   "display_name": "Python 3",
   "language": "python",
   "name": "python3"
  },
  "language_info": {
   "codemirror_mode": {
    "name": "ipython",
    "version": 3
   },
   "file_extension": ".py",
   "mimetype": "text/x-python",
   "name": "python",
   "nbconvert_exporter": "python",
   "pygments_lexer": "ipython3",
   "version": "3.6.0"
  }
 },
 "nbformat": 4,
 "nbformat_minor": 2
}
