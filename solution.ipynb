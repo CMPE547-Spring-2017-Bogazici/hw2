{
 "cells": [
  {
   "cell_type": "markdown",
   "metadata": {},
   "source": [
    "## Deniz Ekiz CMPE547 HW2 \n",
    "### QUESTION 1\n",
    "\n",
    "The given data is plotted.\n",
    "\n",
    "$x1$ and $x2$ are the parameters of my data."
   ]
  },
  {
   "cell_type": "code",
   "execution_count": 78,
   "metadata": {
    "collapsed": false
   },
   "outputs": [
    {
     "data": {
      "image/png": "[encoded data removed]",
      "text/plain": [
       "<matplotlib.figure.Figure at 0x112b50110>"
      ]
     },
     "metadata": {},
     "output_type": "display_data"
    }
   ],
   "source": [
    "%matplotlib inline\n",
    "\n",
    "from IPython.display import display, Math, Latex\n",
    "import matplotlib as mpl\n",
    "import matplotlib.pyplot as plt\n",
    "import numpy as np\n",
    "\n",
    "import pandas as pd\n",
    "import seaborn as sns\n",
    "#import given Data\n",
    "my_data = np.loadtxt(\"./data.txt\",skiprows=1)\n",
    "my_x1 = my_data[:,0]\n",
    "my_x2 = my_data[:,1]\n",
    "#Plot given Data\n",
    "plt.figure(figsize=(5,5))\n",
    "plt.axis([0,9,0,9])\n",
    "plt.scatter(my_x1,my_x2)\n",
    "plt.xlabel('x_1')\n",
    "plt.ylabel('x_2')\n",
    "plt.title('Given Data')\n",
    "plt.show()\n",
    "\n",
    "\n"
   ]
  },
  {
   "cell_type": "markdown",
   "metadata": {
    "collapsed": true
   },
   "source": [
    "### Question 2\n",
    "The resulting shape is an vertical ellipse. The formula of vertical ellipse is given by $ \\frac{x_1^2}{b^2} + \\frac{x_2^2}{a^2} = 1 \\: where \\: a>b  $\n",
    "\n",
    " The range of $x_1$ is $[ 4 , 6 ] $ and the range of $x_2$ is $[2,8]$\n",
    " \n",
    " I select uniform x_1 within range $[4,6]$, $a = 3$ and $b=1$\n",
    " \n",
    " The plot axis are fixed to $[0,9]$ interval\n",
    " \n",
    " Normalized noise also added as a factor of  $\\sqrt{r}$ where $r = 0.05$\n",
    " \n",
    " "
   ]
  },
  {
   "cell_type": "markdown",
   "metadata": {},
   "source": [
    "### Question 3"
   ]
  },
  {
   "cell_type": "code",
   "execution_count": 138,
   "metadata": {
    "collapsed": false,
    "scrolled": false
   },
   "outputs": [
    {
     "name": "stdout",
     "output_type": "stream",
     "text": [
      "('x1: ', 5.7180170101045, 'x2:', 7.3365025875316867)\n",
      "('x1: ', 4.0018154525494989, 'x2:', 4.9367836273322707)\n",
      "('x1: ', 5.5973615757809219, 'x2:', 7.5806463310391354)\n",
      "('x1: ', 4.6857755131637493, 'x2:', 2.0298980414468124)\n",
      "('x1: ', 4.0450448287620597, 'x2:', 5.6733619224001872)\n",
      "('x1: ', 4.6668740325590194, 'x2:', 2.2373842620652198)\n",
      "('x1: ', 4.0883608303337127, 'x2:', 6.4347060010164032)\n",
      "('x1: ', 5.2946995370357977, 'x2:', 2.0195835340285608)\n",
      "('x1: ', 4.3334322019866649, 'x2:', 6.9502632569098157)\n",
      "('x1: ', 4.3340157274990698, 'x2:', 2.7713118272873656)\n",
      "('x1: ', 5.1322272108120579, 'x2:', 8.0232191475090815)\n",
      "('x1: ', 4.6750454588535115, 'x2:', 1.8664680119702552)\n",
      "('x1: ', 4.2402157831936425, 'x2:', 6.9135493950689959)\n",
      "('x1: ', 5.6633282307120556, 'x2:', 3.0616968063775034)\n",
      "('x1: ', 4.6919044664730754, 'x2:', 7.5128398083655341)\n",
      "('x1: ', 5.471603876563865, 'x2:', 2.1378416958837096)\n",
      "('x1: ', 4.4848283570639085, 'x2:', 7.7505250698631043)\n",
      "('x1: ', 5.3117381923259073, 'x2:', 2.0778596687571835)\n",
      "('x1: ', 4.1592690912105086, 'x2:', 6.5237552126182674)\n",
      "('x1: ', 5.0015732148940355, 'x2:', 1.9611411326883834)\n",
      "('x1: ', 5.6722410797313731, 'x2:', 7.6242808752194957)\n",
      "('x1: ', 5.4288074095475549, 'x2:', 2.3282438285455944)\n",
      "('x1: ', 4.9063935911637984, 'x2:', 7.9260551045825833)\n",
      "('x1: ', 5.9123719686272596, 'x2:', 3.8357302726467264)\n",
      "('x1: ', 4.5827704328000145, 'x2:', 7.9116965658509608)\n",
      "('x1: ', 4.6708737339160047, 'x2:', 1.8170542589377399)\n",
      "('x1: ', 4.936979466717565, 'x2:', 8.0465148055245148)\n",
      "('x1: ', 5.3386223943403772, 'x2:', 2.4092689859881089)\n",
      "('x1: ', 4.0342039981585343, 'x2:', 5.9622923377956214)\n",
      "('x1: ', 5.6811641585169843, 'x2:', 3.1978587932331899)\n",
      "('x1: ', 5.8781016317601571, 'x2:', 6.1956003979387368)\n",
      "('x1: ', 5.3043536924248373, 'x2:', 2.209558820222314)\n",
      "('x1: ', 5.4682984194081028, 'x2:', 7.8431064276967284)\n",
      "('x1: ', 5.032090647968241, 'x2:', 2.2856137821298783)\n",
      "('x1: ', 4.1739557427541305, 'x2:', 6.9019635457279378)\n",
      "('x1: ', 5.0896054015886723, 'x2:', 2.0503707232445039)\n",
      "('x1: ', 5.1657503096272723, 'x2:', 8.0534787841837723)\n",
      "('x1: ', 5.486699657433399, 'x2:', 2.5428807300017651)\n",
      "('x1: ', 4.3650608240344004, 'x2:', 7.3549903277700874)\n",
      "('x1: ', 5.0400956364323264, 'x2:', 2.2209677604618858)\n",
      "('x1: ', 4.9892899544359679, 'x2:', 8.1580662717936647)\n",
      "('x1: ', 4.2081786999994915, 'x2:', 3.4714373700448142)\n",
      "('x1: ', 5.2929311310617919, 'x2:', 7.6510931103756512)\n",
      "('x1: ', 4.1610487974124277, 'x2:', 3.5839769993756887)\n",
      "('x1: ', 4.4629569743638813, 'x2:', 7.7079646671202662)\n",
      "('x1: ', 4.2297783240950917, 'x2:', 3.0511144401161623)\n",
      "('x1: ', 4.560288819202249, 'x2:', 7.5619984733058647)\n",
      "('x1: ', 5.9059202007817513, 'x2:', 3.5282017164469601)\n",
      "('x1: ', 5.4892270758502804, 'x2:', 7.2434706675011675)\n",
      "('x1: ', 5.1556867597460609, 'x2:', 1.9595511182681022)\n",
      "('x1: ', 5.4710775068305999, 'x2:', 7.7365890072214221)\n",
      "('x1: ', 5.9643901247635736, 'x2:', 4.1358881113269952)\n",
      "('x1: ', 5.831847359530868, 'x2:', 6.9516838894654196)\n",
      "('x1: ', 5.7547973847501694, 'x2:', 3.1293383458422337)\n",
      "('x1: ', 5.0231987528005346, 'x2:', 8.3528683844114742)\n",
      "('x1: ', 5.0183699505013344, 'x2:', 2.0124240334553178)\n",
      "('x1: ', 5.690038558287732, 'x2:', 7.2622050901236754)\n",
      "('x1: ', 5.086304799055827, 'x2:', 2.1628827794622603)\n",
      "('x1: ', 4.6614901983983499, 'x2:', 7.9630403396249321)\n",
      "('x1: ', 4.2794748464139447, 'x2:', 3.0072832717274292)\n",
      "('x1: ', 4.8013709816929921, 'x2:', 8.1224030075522879)\n",
      "('x1: ', 5.7939280193613447, 'x2:', 3.375006967134778)\n",
      "('x1: ', 4.9742185926899989, 'x2:', 8.1964521447255834)\n",
      "('x1: ', 4.1728171083479353, 'x2:', 3.5482687319579576)\n",
      "('x1: ', 5.0381019616641014, 'x2:', 8.0528411290100994)\n",
      "('x1: ', 4.4375952088007722, 'x2:', 2.5370222585796758)\n",
      "('x1: ', 4.6933421573959588, 'x2:', 7.6915162727929154)\n",
      "('x1: ', 5.9664211303000343, 'x2:', 3.9852509681238741)\n",
      "('x1: ', 4.8525083763730983, 'x2:', 8.0346081581408271)\n",
      "('x1: ', 5.6855659886792775, 'x2:', 2.9085706644837597)\n",
      "('x1: ', 4.9505160499389333, 'x2:', 7.884650797898054)\n",
      "('x1: ', 5.5350579782739882, 'x2:', 2.234265394356219)\n",
      "('x1: ', 4.1035793788118129, 'x2:', 6.4565806096533045)\n",
      "('x1: ', 4.3064277020706907, 'x2:', 2.6053171776106585)\n",
      "('x1: ', 4.2614474524483441, 'x2:', 6.9505122074222392)\n",
      "('x1: ', 5.6503492911654849, 'x2:', 2.8441474179329393)\n",
      "('x1: ', 5.0607423465729422, 'x2:', 8.1768375220616463)\n",
      "('x1: ', 5.8802044276000629, 'x2:', 3.6141356870316979)\n",
      "('x1: ', 5.5068115463353724, 'x2:', 7.5834980020520213)\n",
      "('x1: ', 4.4288555309537481, 'x2:', 2.9778858469343579)\n",
      "('x1: ', 5.0586863629447212, 'x2:', 8.240632477748365)\n",
      "('x1: ', 4.2713819288857104, 'x2:', 3.0338410624009646)\n",
      "('x1: ', 4.6461700114674231, 'x2:', 7.8285832858173592)\n",
      "('x1: ', 5.5544055422583707, 'x2:', 2.4022752730726804)\n",
      "('x1: ', 4.0410370597500815, 'x2:', 5.8900992398751457)\n",
      "('x1: ', 5.9588516119025368, 'x2:', 3.9895071288506889)\n",
      "('x1: ', 4.3206696745378421, 'x2:', 7.3304434933804856)\n",
      "('x1: ', 5.0039297770402591, 'x2:', 1.8116445219013757)\n",
      "('x1: ', 5.2498970067121453, 'x2:', 8.100270710831154)\n",
      "('x1: ', 5.5779207777530893, 'x2:', 2.5436666709348517)\n",
      "('x1: ', 5.0693300715898992, 'x2:', 7.8132462290553573)\n",
      "('x1: ', 5.2819252302608781, 'x2:', 2.3198937012969325)\n",
      "('x1: ', 4.7359253889697728, 'x2:', 7.7549653855984868)\n",
      "('x1: ', 4.5293478041993751, 'x2:', 2.4548806295480721)\n",
      "('x1: ', 4.5080723268725489, 'x2:', 7.9147549377078299)\n",
      "('x1: ', 5.5979378946730201, 'x2:', 2.33702308518945)\n",
      "('x1: ', 5.3409729898092628, 'x2:', 7.8729410893424339)\n",
      "('x1: ', 4.5796048117655612, 'x2:', 2.2170206508039971)\n",
      "('x1: ', 5.917887407091925, 'x2:', 5.6247187795292479)\n",
      "('x1: ', 5.525361591567334, 'x2:', 2.1514979961077207)\n"
     ]
    }
   ],
   "source": [
    "%matplotlib inline\n",
    "\n",
    "#Sample number is 100\n",
    "N = 100\n",
    "# X1 is within range 3.5 and 6\n",
    "x1 = np.random.uniform(4, 6, N)\n",
    "a = 3\n",
    "b = 1\n",
    "# r is noise factor\n",
    "r = 0.05\n",
    "\n",
    "x2 = np.sqrt(np.subtract(np.square(a),np.divide(np.dot(np.square(a),np.square( np.subtract (x1,5))),np.square(b)) )) + np.sqrt(r)*np.random.randn(1,N) \n",
    "#Since y has two roots for each x value, I multiply with -1 half of the graph.\n",
    "signs = np.random.randn(1,N)\n",
    "for i in range(N):\n",
    "    x2[:,i] = x2[:,i]*np.power(-1,i) + 5\n",
    "    print(\"x1: \" , x1[i] ,\"x2:\" , x2[:,i][0])\n"
   ]
  },
  {
   "cell_type": "markdown",
   "metadata": {},
   "source": [
    "### Question 4\n",
    "I plotted both of the data sets in order to compare them objectively. Also scaled each of the axis and figure sizes to between 0 and 9."
   ]
  },
  {
   "cell_type": "code",
   "execution_count": 141,
   "metadata": {
    "collapsed": false
   },
   "outputs": [
    {
     "data": {
      "image/png": "[encoded data removed]",
      "text/plain": [
       "<matplotlib.figure.Figure at 0x112dfd210>"
      ]
     },
     "metadata": {},
     "output_type": "display_data"
    },
    {
     "data": {
      "image/png": "[encoded data removed]",
      "text/plain": [
       "<matplotlib.figure.Figure at 0x112e28fd0>"
      ]
     },
     "metadata": {},
     "output_type": "display_data"
    }
   ],
   "source": [
    "plt.figure(figsize=(5,5))\n",
    "plt.axis([0,9,0,9])\n",
    "plt.scatter(x1,x2)\n",
    "plt.xlabel('x_1')\n",
    "plt.ylabel('x_2')\n",
    "plt.title(\"Proposed Model with Synthetic data\")\n",
    "plt.show()\n",
    "#Plot given Data\n",
    "plt.figure(figsize=(5,5))\n",
    "plt.axis([0,9,0,9])\n",
    "plt.scatter(my_x1,my_x2)\n",
    "plt.xlabel('x_1')\n",
    "plt.ylabel('x_2')\n",
    "plt.title('Given Data (Original from file)')\n",
    "plt.show()\n",
    "\n"
   ]
  },
  {
   "cell_type": "markdown",
   "metadata": {},
   "source": [
    "### Question 5\n",
    "We can check it by looking at the covariance, variance and mean of the data set. Since each x_1 plots to two possible roots. We can look at the distance between given data set and synthetic model and take the minimum distance as validator."
   ]
  }
 ],
 "metadata": {
  "kernelspec": {
   "display_name": "Python 2",
   "language": "python",
   "name": "python2"
  },
  "language_info": {
   "codemirror_mode": {
    "name": "ipython",
    "version": 2
   },
   "file_extension": ".py",
   "mimetype": "text/x-python",
   "name": "python",
   "nbconvert_exporter": "python",
   "pygments_lexer": "ipython2",
   "version": "2.7.13"
  }
 },
 "nbformat": 4,
 "nbformat_minor": 2
}
