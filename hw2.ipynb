{
 "cells": [
  {
   "cell_type": "markdown",
   "metadata": {},
   "source": [
    "# HW 2: Generative Models"
   ]
  },
  {
   "cell_type": "markdown",
   "metadata": {},
   "source": [
    "This homework is about proposing a model to generate a given dataset.\n",
    "\n",
    "### Part 1: Visualising the Dataset\n",
    "\n",
    "The code below visualises the dataset, given in dataset.txt:"
   ]
  },
  {
   "cell_type": "code",
   "execution_count": 58,
   "metadata": {
    "collapsed": false,
    "scrolled": false
   },
   "outputs": [
    {
     "data": {
      "image/png": "[encoded data removed]",
      "text/plain": [
       "<matplotlib.figure.Figure at 0x6ec4013080>"
      ]
     },
     "metadata": {},
     "output_type": "display_data"
    }
   ],
   "source": [
    "%matplotlib inline\n",
    "\n",
    "import numpy as np\n",
    "import matplotlib.pyplot as plt\n",
    "\n",
    "\n",
    "N_input = 100 # number of data points\n",
    "file = open(\"dataset.txt\")\n",
    "X1_in = [] \n",
    "X2_in = [] # initialize empty lists for the two dimensions\n",
    "for i in range (0,N_input): # loop over the N data points\n",
    "    line = file.readline()\n",
    "    X1_in.append(line.split()[0]) # append first part of the line to X1\n",
    "    X2_in.append(line.split()[1]) \n",
    "# the lists are now full\n",
    "\n",
    "plt.scatter(X1_in,X2_in)\n",
    "plt.show()"
   ]
  },
  {
   "cell_type": "markdown",
   "metadata": {},
   "source": [
    "The above looks like the boundary of an ellipse centered at (5,5), with horizontal axis length 2 and vertical axis length 6. Several outliers exist and we might be a little off with the exact values, but this seems to be the best elliptical fit to the data (if the fit is elliptical). \n",
    "\n",
    "### Part 2: Proposing a Generative Model\n",
    "\n",
    "Thus, generating points from the ellipse\n",
    "\n",
    "$\\frac{{(x-5)}^2}{1^2} + \\frac{{(y-5)}^2}{3^2} = 1$\n",
    "\n",
    "will generate the desired points.\n",
    "\n",
    "Additionally, to account for the noise, we may add to each point a minor error factor $\\epsilon$\n",
    "\n",
    "The error of each single sampled point above can be calculated roughly as follows:\n",
    "\n",
    "If the point $(x,y)$ was exactly on the ellipse, then $\\frac{{(x-5)}^2}{1^2} + \\frac{{(y-5)}^2}{3^2} - 1$ would be 0.\n",
    "The left hand side of the equation above can serve as our square-error function heuristically. Then, we will just assume that the error is radial. This is very biased, but nonetheless it is still possible to generate every point in $\\mathbb{R}^2$ via this method! (Pick point on ellipse -> Pick random error radially.)\n",
    "\n",
    "Below is a calculation of errors:"
   ]
  },
  {
   "cell_type": "code",
   "execution_count": 78,
   "metadata": {
    "collapsed": false
   },
   "outputs": [
    {
     "name": "stdout",
     "output_type": "stream",
     "text": [
      "0.100569679459 0.371881959492\n"
     ]
    }
   ],
   "source": [
    "def error(x, y):\n",
    "    x = eval(x)\n",
    "    y = eval(y) # somehow Python wants type-checking before the next step\n",
    "    squareError = (x-5)*(x-5) + (y-5)*(y-5)/9 - 1\n",
    "    if(squareError < 0): # point inside ellipse\n",
    "        error = -(np.sqrt(-squareError))\n",
    "    else: # point on or outside ellipse\n",
    "        error = np.sqrt(squareError)\n",
    "    return error\n",
    "\n",
    "Errors = [] # matrix of errors\n",
    "for i in range(0, N_input):\n",
    "    Errors.append(error(X1_in[i], X2_in[i]))\n",
    "\n",
    "# we now have a full list of errors\n",
    "# get mean error and standard deviation\n",
    "\n",
    "mu = np.mean(Errors)\n",
    "sigma = np.std(Errors)"
   ]
  },
  {
   "cell_type": "markdown",
   "metadata": {},
   "source": [
    "We have now calculated the radial error. Assuming it is normally distributed, we can now sample from the normal distribution $N(\\mu, \\sigma^2)$ to generate a random error each time we generate a point.\n",
    "\n",
    "### Part 3: Implementing the Generative Model\n",
    "\n",
    "However, there is still the question of how to implement the above idea. First, how do we generate points from the ellipse? Let's try generating x-values, and calculate y-values accordingly. Since there will be two y's for each x, we flip a coin to decide whether the y-values are going to be on the bottom half or the top half of the ellipse. The code is given below.\n",
    "\n",
    "Solving the ellipse equation for y yields:\n",
    "\n",
    "$(y-5)^2 = [1 - (x-5)^2] * 3^2$\n",
    "\n",
    "So after generating x, we can flip a coin for (y-5) and act accordingly."
   ]
  },
  {
   "cell_type": "code",
   "execution_count": 56,
   "metadata": {
    "collapsed": false
   },
   "outputs": [
    {
     "data": {
      "image/png": "[encoded data removed]",
      "text/plain": [
       "<matplotlib.figure.Figure at 0x6ec4007320>"
      ]
     },
     "metadata": {},
     "output_type": "display_data"
    }
   ],
   "source": [
    "N = 100 # number of output points\n",
    "X1_out = np.random.rand(N) # get N random X-values between 0 and 1\n",
    "X2_out = [] # the actual y-values to be filled\n",
    "\n",
    "for i in range(0,N):\n",
    "    X1_out[i] = (X1_out[i]*2)+4 # redistribute X-values across (4, 6)\n",
    "\n",
    "for i in range(0,N):\n",
    "    \n",
    "    coin = np.random.randint(0,2) # 0 - below the axis, 1 - above the axis\n",
    "    y = np.sqrt((1-(X1_out[i]-5)*(X1_out[i]-5)) * 9) # calculate y-5 values\n",
    "    if(coin == 0):\n",
    "        y = -y # flip if necessary\n",
    "    y = y+5\n",
    "    X2_out.append(y)\n",
    "    \n",
    "\n",
    "plt.scatter(X1_out, X2_out)\n",
    "plt.show()"
   ]
  },
  {
   "cell_type": "markdown",
   "metadata": {},
   "source": [
    "However, the output is very sparse around the edges of the major axis, since choosing X-values does not account for the \"curvature\" - if this was projected to the X-axis, the distribution would be uniform, but \"expanding\" the ellipse ruins it. We may work around this by flipping a coin at each step: whether to generate X-values from the Y-values, or vice-versa.\n",
    "\n",
    "To calculate x-values from y-values, again solving the ellipse equation yields:\n",
    "\n",
    "$(x-5)^2 = 1 - \\frac{(y-5)^2}{9}$"
   ]
  },
  {
   "cell_type": "code",
   "execution_count": 108,
   "metadata": {
    "collapsed": false
   },
   "outputs": [
    {
     "data": {
      "image/png": "[encoded data removed]",
      "text/plain": [
       "<matplotlib.figure.Figure at 0x6ec37f1390>"
      ]
     },
     "metadata": {},
     "output_type": "display_data"
    }
   ],
   "source": [
    "Randoms = np.random.rand(N) # generate N different RV's to sample X or Y (decided later)\n",
    "X1_out = [] # clean the lists\n",
    "X2_out = []\n",
    "\n",
    "for i in range(0,N):\n",
    "    coin = np.random.randint(0,2) # 0 - generate X first, 1 - generate Y first\n",
    "    if(coin == 0): # generate X first\n",
    "        X1_out.append(Randoms[i]*2 + 4) # redistribute X-values along (4, 6)\n",
    "        y = np.sqrt((1-(X1_out[i]-5)*(X1_out[i]-5)) * 9) # calculate y-5 values\n",
    "        coin = np.random.randint(0,2) # 0 - below the axis, 1 - above the axis\n",
    "        if(coin == 0):\n",
    "            y = -y # flip if necessary\n",
    "        y = y+5\n",
    "        X2_out.append(y)\n",
    "    else: # generate Y first\n",
    "        X2_out.append(Randoms[i]*6 + 2) # redistribute Y-values across (2, 8)\n",
    "        x = np.sqrt (1 - (X2_out[i] - 5)*(X2_out[i] - 5) / 9) # calculate x-5 values\n",
    "        coin = np.random.randint(0,2) # 0 - left side, 1 - right side\n",
    "        if (coin == 0):\n",
    "            x = -x\n",
    "        x = x+5\n",
    "        X1_out.append(x)\n",
    "\n",
    "plt.scatter(X1_out, X2_out)\n",
    "plt.show()"
   ]
  },
  {
   "cell_type": "markdown",
   "metadata": {},
   "source": [
    "The above sample seems more evenly distributed, so we'll stick with that. Now to add errors:\n",
    "We'll sample from the normal distribution $N(0, \\sigma^2)$ and then go some distance radially according to the sampled error. A sample of 0 corresponds to no error, and a sample of 1 corresponds to going exactly 1 \"radius\" in that direction. Of course, \"radius\" here corresponds to the length of the line segment between (5, 5) and our sampled point, so its value depends on the sampled point! A negative error represents going that far towards the *inside* of the ellipse.\n",
    "\n",
    "The below code adds appropriate error to the points already generated above."
   ]
  },
  {
   "cell_type": "code",
   "execution_count": 112,
   "metadata": {
    "collapsed": false
   },
   "outputs": [
    {
     "data": {
      "image/png": "[encoded data removed]",
      "text/plain": [
       "<matplotlib.figure.Figure at 0x6ec3565c50>"
      ]
     },
     "metadata": {},
     "output_type": "display_data"
    }
   ],
   "source": [
    "X1_outWithError = []\n",
    "X2_outWithError = []\n",
    "\n",
    "def addError(x, y):\n",
    "    theta = np.arctan2(y-5, x-5) # find angle from center of ellipse\n",
    "    error = sigma * np.random.randn() + mu # sample error\n",
    "    return (x+error*np.cos(theta), y+error*np.sin(theta)) # return updated points\n",
    "\n",
    "for i in range(0, 100):\n",
    "    newValues = addError(X1_out[i], X2_out[i])\n",
    "    X1_outWithError.append(newValues[0])\n",
    "    X2_outWithError.append(newValues[1])\n",
    "\n",
    "plt.scatter(X1_outWithError, X2_outWithError)\n",
    "plt.show()"
   ]
  },
  {
   "cell_type": "markdown",
   "metadata": {},
   "source": [
    "This seems much more noisy than the original to the naked eye! The heuristic seems to be not working properly. Also, perhaps setting the mean error to be non-zero was not the best idea.\n",
    "\n",
    "### Part 4: Visual Comparison of Generative Algorithms with Input\n",
    "\n",
    "In any case, below is a graph where all three sets of data are visible (initial data, perfect ellipse, ellipse with error):"
   ]
  },
  {
   "cell_type": "code",
   "execution_count": 123,
   "metadata": {
    "collapsed": false
   },
   "outputs": [
    {
     "data": {
      "image/png": "[encoded data removed]",
      "text/plain": [
       "<matplotlib.figure.Figure at 0x6ec3c106d8>"
      ]
     },
     "metadata": {},
     "output_type": "display_data"
    }
   ],
   "source": [
    "fig = plt.figure()\n",
    "ax1 = fig.add_subplot(111)\n",
    "ax1.scatter(X1_in, X2_in, s=7, c='b', marker=\"s\", label='Input')\n",
    "ax1.scatter(X1_out, X2_out, s=7, c='r', marker=\"o\", label='Ellipse')\n",
    "ax1.scatter(X1_outWithError, X2_outWithError, s=7, c='g', marker=\"x\", label='+ Error')\n",
    "plt.legend(loc='upper left')\n",
    "plt.show()"
   ]
  },
  {
   "cell_type": "markdown",
   "metadata": {},
   "source": [
    "It seems that the perfect ellipse suited it better. Even if the error function works correctly, a sample generated with artificial error might be drastically different than the input due to error propagation (some points are, in a way, \"two errors\" away from each other in two error-riddled distributions).\n",
    "\n",
    "### Part 5: Discussion on \"Similarity of Datasets\"\n",
    "\n",
    "How can we tell if two datasets are similar? If they contain the same number of points (as they do in this simulation), we can define the distance to be the sum of closest point pairs. In more rigorous notation, given two sets $A = \\{a_1, \\ldots, a_n\\}$ and $B = \\{b_1, \\ldots, b_n\\}$, we can define their distance $d(A, B)$ to be the sum:\n",
    "\n",
    "$\\sum\\limits_{i=1}^{n} \\|a_i - b_i\\|$\n",
    "\n",
    "Of course, this sum depends on the ordering of the sets. Since there are a finite number ($n^2$) of pairs of orderings, we define the distance to be the *minimum* of these values (i.e. choose the best ordering that gets close points to close indices, then measure).\n",
    "\n",
    "Of course, minimizing over 10000 different distributions in this case is tedious. Below is a greedy algorithm that assigns to each point the closest neighbour in the other data set. Since this greedy algorithm will by nature blow up the last few distances, we only consider 90 pairs of the 100 points (to get rid of the greedy part's effects)."
   ]
  },
  {
   "cell_type": "code",
   "execution_count": 147,
   "metadata": {
    "collapsed": false,
    "scrolled": true
   },
   "outputs": [
    {
     "name": "stdout",
     "output_type": "stream",
     "text": [
      "Greedy average distance of input to ellipse: 0.387539797326\n",
      "Greedy average distance of input to ellipse with error: 0.42249504621\n"
     ]
    }
   ],
   "source": [
    "## Distance between two points (x,y) and (z,t)\n",
    "def distance(x, y, z, t):\n",
    "    x = float(x)\n",
    "    y = float(y)\n",
    "    z = float(z)\n",
    "    t = float(t) # This is what happens when you don't parse properly\n",
    "    return (np.sqrt((x-z)*(x-z) + (y-t)*(y-t)))\n",
    "\n",
    "## Greedy calculation of distance between two sets of points (Xfirst, Yfirst) and (Xsecond, Ysecond)\n",
    "## Lists are assumed to be 100 long, and the distance is calculated over the first 90 points\n",
    "def calculateDistance(Xfirst, Yfirst, Xsecond, Ysecond):\n",
    "    X1 = []\n",
    "    Y1 = []\n",
    "    X2 = []\n",
    "    Y2 = []\n",
    "    totalDistance = 0\n",
    "    # get an exact copy of lists to operate on - don't want to pop original lists\n",
    "    for i in range(0, 90):\n",
    "        X1.append(Xfirst[i])\n",
    "        Y1.append(Yfirst[i])\n",
    "        X2.append(Xsecond[i])\n",
    "        Y2.append(Ysecond[i])\n",
    "    for i in range(90, 100): ## keep the second list longer - we'll be popping from the first list\n",
    "        X2.append(Xsecond[i])\n",
    "        Y2.append(Ysecond[i])\n",
    "    while(len(X1) > 0):\n",
    "        x1 = X1.pop()\n",
    "        y1 = Y1.pop() ## get pair of points\n",
    "        minDist = np.inf\n",
    "        currentIndex = 0\n",
    "        for i in range(0, len(X2)):\n",
    "            dist = distance(x1, y1, X2[i], Y2[i])\n",
    "            if(dist < minDist):\n",
    "                minDist = dist\n",
    "                currentIndex = i\n",
    "        ## found closest point, pop it\n",
    "        X2.pop(currentIndex)\n",
    "        Y2.pop(currentIndex)\n",
    "        totalDistance = totalDistance + minDist\n",
    "    return totalDistance/90\n",
    "\n",
    "print(\"Greedy average distance of input to ellipse: \" + str(calculateDistance(X1_in, X2_in, X1_out, X2_out)))\n",
    "print(\"Greedy average distance of input to ellipse with error: \" + str(calculateDistance(X1_in, X2_in, X1_outWithError, X2_outWithError)))\n"
   ]
  },
  {
   "cell_type": "markdown",
   "metadata": {},
   "source": [
    "As expected above, the generative algorithm that included artificial noise did worse."
   ]
  },
  {
   "cell_type": "code",
   "execution_count": null,
   "metadata": {
    "collapsed": true
   },
   "outputs": [],
   "source": []
  }
 ],
 "metadata": {
  "kernelspec": {
   "display_name": "Python 3",
   "language": "python",
   "name": "python3"
  },
  "language_info": {
   "codemirror_mode": {
    "name": "ipython",
    "version": 3
   },
   "file_extension": ".py",
   "mimetype": "text/x-python",
   "name": "python",
   "nbconvert_exporter": "python",
   "pygments_lexer": "ipython3",
   "version": "3.5.1"
  }
 },
 "nbformat": 4,
 "nbformat_minor": 0
}
