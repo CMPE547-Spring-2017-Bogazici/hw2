{
 "cells": [
  {
   "cell_type": "markdown",
   "metadata": {},
   "source": [
    "# HW2 - Generative Models"
   ]
  },
  {
   "cell_type": "code",
   "execution_count": 18,
   "metadata": {
    "collapsed": false
   },
   "outputs": [],
   "source": [
    "%matplotlib inline\n",
    "import numpy as np\n",
    "import matplotlib.pyplot as plt\n",
    "from IPython.display import display, Math, Latex\n",
    "from scipy import stats"
   ]
  },
  {
   "cell_type": "markdown",
   "metadata": {},
   "source": [
    "## Reading the data"
   ]
  },
  {
   "cell_type": "code",
   "execution_count": 19,
   "metadata": {
    "collapsed": false
   },
   "outputs": [],
   "source": [
    "f=open('README.md')\n",
    "x1=[]\n",
    "x2=[]\n",
    "check=0\n",
    "for line in f:\n",
    "    if check==1 and not line.startswith('`'):\n",
    "        x=line.split()\n",
    "        x[0]=float(x[0])\n",
    "        x[1]=float(x[1])\n",
    "        x1.append(x[0])\n",
    "        x2.append(x[1])\n",
    "    if line.startswith('x1'):\n",
    "        check=1"
   ]
  },
  {
   "cell_type": "markdown",
   "metadata": {},
   "source": [
    "## 1. Visualizing the data"
   ]
  },
  {
   "cell_type": "code",
   "execution_count": 20,
   "metadata": {
    "collapsed": false,
    "scrolled": true
   },
   "outputs": [
    {
     "data": {
      "image/png": "[encoded data removed]",
      "text/plain": [
       "<matplotlib.figure.Figure at 0x11bebd1d0>"
      ]
     },
     "metadata": {},
     "output_type": "display_data"
    }
   ],
   "source": [
    "plt.plot(x1,x2,'ro')\n",
    "plt.show()"
   ]
  },
  {
   "cell_type": "markdown",
   "metadata": {},
   "source": [
    "## 2. My generative model"
   ]
  },
  {
   "cell_type": "markdown",
   "metadata": {},
   "source": [
    "$$ U=N(\\pi,2\\pi) $$\n",
    "$$ y_1=\\sqrt{2}\\sigma_1 \\times cos(U)+ mean_1 +\\epsilon_1 $$\n",
    "$$ \\epsilon_1=N(0,0.10) $$\n",
    "$$ y_2=\\sqrt{2}\\sigma_2 \\times sin(U)+ mean_2 +\\epsilon_2 $$\n",
    "$$ \\epsilon_2=N(0,0.01) $$"
   ]
  },
  {
   "cell_type": "markdown",
   "metadata": {},
   "source": [
    "### 2.1. Explanation of the generative model"
   ]
  },
  {
   "cell_type": "markdown",
   "metadata": {},
   "source": [
    "The obvious circle-like shape of the data suggests a model of a circle (or an ellipse). For this purpose, I will use a normally distributed variable, namely U, with a mean of $\\pi$ and a variance of $2\\pi$. For $y_1$, the cosine of the values of U will be taken. This procedure halves the variance, so the standard deviation $\\sigma_1$ is multiplied by $\\sqrt{2}$ (the same situation (and correction) applies for $y_2$). Then, the mean of the given dataset is added separately to both dimensions $y_1$ and $y_2$. Finally an error term is added to both models."
   ]
  },
  {
   "cell_type": "markdown",
   "metadata": {},
   "source": [
    "## 3. Implementation & sampling from data"
   ]
  },
  {
   "cell_type": "markdown",
   "metadata": {},
   "source": [
    "To decide the values of $\\sigma_1, \\sigma_2, mean_1,$ and $mean_2$ the data is inspected. The values found are as follows:<br>\n",
    "$mean_1=4.89903$<br>\n",
    "$mean_2=4.85242$<br>\n",
    "$\\sigma_1^2=0.4935174491$<br>\n",
    "$\\sigma_2^2=5.0603002436$"
   ]
  },
  {
   "cell_type": "markdown",
   "metadata": {},
   "source": [
    "After these values and visual inspection of models with different mean and variance values, the values $mean_1$ and $mean_2$ are decided to be taken as 5, which is very close to the mean values of the given data. The value $\\sigma_1^2$ is taken as 0.5, similar to the value from the data. However, after visual inspection the value $\\sigma_2^2$ is decided to be taken as 4.5, rather than 5 which is closer to the value that the data suggests. This has been done because it is believed that the value taken fits better to the data than the one coming from the data. Of course, a more scientific way could have been followed to decide on the value of $\\sigma_2$, such as conducting some goodness of fit test for both values and seeing which fits better."
   ]
  },
  {
   "cell_type": "code",
   "execution_count": 27,
   "metadata": {
    "collapsed": false
   },
   "outputs": [
    {
     "name": "stdout",
     "output_type": "stream",
     "text": [
      "4.89903 4.85242 0.4935174491 5.0603002436\n"
     ]
    }
   ],
   "source": [
    "mean1=np.mean(x1)\n",
    "mean2=np.mean(x2)\n",
    "var1=np.var(x1)\n",
    "var2=np.var(x2)\n",
    "print mean1, mean2, var1, var2\n",
    "U=np.random.normal(np.pi,2*np.pi,size=100)\n",
    "y1=np.sqrt(1)*np.cos(U)+5+np.random.normal(0,0.10,size=100)\n",
    "y2=np.sqrt(9)*np.sin(U)+5+np.random.normal(0,0.01,size=100)"
   ]
  },
  {
   "cell_type": "markdown",
   "metadata": {},
   "source": [
    "## 4. Visualization of synthetic data"
   ]
  },
  {
   "cell_type": "code",
   "execution_count": 22,
   "metadata": {
    "collapsed": false
   },
   "outputs": [
    {
     "data": {
      "image/png": "[encoded data removed]",
      "text/plain": [
       "<matplotlib.figure.Figure at 0x11c09cbd0>"
      ]
     },
     "metadata": {},
     "output_type": "display_data"
    }
   ],
   "source": [
    "plt.plot(y1,y2,'ro',color='blue')\n",
    "plt.show()"
   ]
  },
  {
   "cell_type": "markdown",
   "metadata": {},
   "source": [
    "### 4.1. Synthetic data vs given dataset"
   ]
  },
  {
   "cell_type": "code",
   "execution_count": 23,
   "metadata": {
    "collapsed": false
   },
   "outputs": [
    {
     "data": {
      "image/png": "[encoded data removed]",
      "text/plain": [
       "<matplotlib.figure.Figure at 0x11c1a9b10>"
      ]
     },
     "metadata": {},
     "output_type": "display_data"
    }
   ],
   "source": [
    "plt.plot(x1,x2,'ro')\n",
    "plt.plot(y1,y2,'ro',color='blue')\n",
    "plt.show()"
   ]
  },
  {
   "cell_type": "markdown",
   "metadata": {},
   "source": [
    "## 5. Comparison of two datasets"
   ]
  },
  {
   "cell_type": "markdown",
   "metadata": {},
   "source": [
    "The similarity of the two datasets can be assessed using both visual inspection and quantitative tools."
   ]
  },
  {
   "cell_type": "markdown",
   "metadata": {
    "collapsed": true
   },
   "source": [
    "### 5.1. Qualitative comparison"
   ]
  },
  {
   "cell_type": "markdown",
   "metadata": {},
   "source": [
    "First, the simlarity of two datasets can be checked visually, to see if they have similar means, variances, shapes, patterns, and so on. The first thing that can be observed in the given dataset is its circle-like shape. This shape is approximated with the generated dataset. The second thing realized is the variance existing on x-axis, which is much greater than the variance on y-axis. The generated dataset also has a simialr feature (due to the added error on x-axis in the generative model, which is 10 times more than the error added in the generative model in the y-axis). Overall, it can be said that the two datasets look similar after the visual inspection."
   ]
  },
  {
   "cell_type": "markdown",
   "metadata": {},
   "source": [
    "### 5.2. Quantitative comparison"
   ]
  },
  {
   "cell_type": "markdown",
   "metadata": {},
   "source": [
    "We can use the two-sample Kolmogorov-Smirnov(2sKS) test to see if the given data and the sythetic data created from the generative model are similar. This test will be conducted in two steps, two separate 2sKS tests since the data is two dimensional."
   ]
  },
  {
   "cell_type": "code",
   "execution_count": 24,
   "metadata": {
    "collapsed": false
   },
   "outputs": [
    {
     "data": {
      "text/plain": [
       "Ks_2sampResult(statistic=0.11000000000000001, pvalue=0.55601716622975661)"
      ]
     },
     "execution_count": 24,
     "metadata": {},
     "output_type": "execute_result"
    }
   ],
   "source": [
    "stats.ks_2samp(x1, y1)"
   ]
  },
  {
   "cell_type": "code",
   "execution_count": 25,
   "metadata": {
    "collapsed": false
   },
   "outputs": [
    {
     "data": {
      "text/plain": [
       "Ks_2sampResult(statistic=0.13, pvalue=0.34388571222170117)"
      ]
     },
     "execution_count": 25,
     "metadata": {},
     "output_type": "execute_result"
    }
   ],
   "source": [
    "stats.ks_2samp(x2, y2)"
   ]
  },
  {
   "cell_type": "markdown",
   "metadata": {},
   "source": [
    "The results for the 2sKS tests show that there is no significant difference between the two datasets, i.e. the null hypothesis that two samples are drawn from the same distribution cannot be rejected. (In this test, when the statistic is lower than the p-value, this means the difference is not significant between the two samples.)"
   ]
  },
  {
   "cell_type": "markdown",
   "metadata": {},
   "source": [
    "Alternatively, one can also use t-test and F-test to see if the means and variances of two datasets are significantly different or not. Also, the SSE (or MSE) of the model (in the form of $y=f(x)$) can be checked using the provided data. "
   ]
  },
  {
   "cell_type": "code",
   "execution_count": null,
   "metadata": {
    "collapsed": true
   },
   "outputs": [],
   "source": []
  }
 ],
 "metadata": {
  "kernelspec": {
   "display_name": "Python 2",
   "language": "python",
   "name": "python2"
  },
  "language_info": {
   "codemirror_mode": {
    "name": "ipython",
    "version": 2
   },
   "file_extension": ".py",
   "mimetype": "text/x-python",
   "name": "python",
   "nbconvert_exporter": "python",
   "pygments_lexer": "ipython2",
   "version": "2.7.13"
  }
 },
 "nbformat": 4,
 "nbformat_minor": 2
}
