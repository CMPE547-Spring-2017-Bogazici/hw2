{
 "cells": [
  {
   "cell_type": "markdown",
   "metadata": {
    "collapsed": true
   },
   "source": [
    "## CMPE547 - HW\n",
    "#### a) Visualize this dataset using a scatter plot"
   ]
  },
  {
   "cell_type": "code",
   "execution_count": 1,
   "metadata": {
    "collapsed": false
   },
   "outputs": [
    {
     "data": {
      "image/png": "[encoded data removed]",
      "text/plain": [
       "<matplotlib.figure.Figure at 0x49b3f98>"
      ]
     },
     "metadata": {},
     "output_type": "display_data"
    }
   ],
   "source": [
    "import matplotlib.pyplot as plt\n",
    "\n",
    "with open('data.txt') as f:\n",
    "    first_line = f.readline()\n",
    "    for l in f:\n",
    "        x1, x2 = (float(s) for s in l.split())\n",
    "        plt.scatter(x1, x2)\n",
    "    plt.show()"
   ]
  },
  {
   "cell_type": "markdown",
   "metadata": {},
   "source": [
    "#### b) Propose a generative model"
   ]
  },
  {
   "cell_type": "markdown",
   "metadata": {},
   "source": [
    "I propose the model for this data:  \n",
    "$\n",
    "\\begin{eqnarray}\n",
    "\\sqrt{(x_1-5)^2 + (x_2-5)^2} = 1 \\pm \\epsilon\n",
    "\\end{eqnarray}\n",
    "$  \n",
    "$\\epsilon$ is the error that selects the variance of the result and distributed by Gaussian distribution since some sample points are out of the circle with a low chance.  \n",
    "$\n",
    "\\begin{eqnarray}\n",
    "\\epsilon \\sim \\mathcal N(x; 0, 1)\n",
    "\\end{eqnarray}\n",
    "$"
   ]
  },
  {
   "cell_type": "markdown",
   "metadata": {},
   "source": [
    "#### c) Implement your generative model and sample data from your model"
   ]
  },
  {
   "cell_type": "code",
   "execution_count": 59,
   "metadata": {
    "collapsed": false
   },
   "outputs": [
    {
     "data": {
      "image/png": "[encoded data removed]",
      "text/plain": [
       "<matplotlib.figure.Figure at 0x68e8828>"
      ]
     },
     "metadata": {},
     "output_type": "display_data"
    }
   ],
   "source": [
    "import numpy as np\n",
    "\n",
    "N = 100\n",
    "x1 = np.random.uniform(4, 6, N)\n",
    "eps = np.random.normal(0, 0.1, N)\n",
    "\n",
    "x2 = np.sqrt(1 - np.square(x1 - 5)) * 3\n",
    "for i in range(N/2):\n",
    "    x2[i] *= -1\n",
    "x2 += 5\n",
    "x1 += eps  # error\n",
    "plt.scatter(x1, x2)\n",
    "plt.show()"
   ]
  },
  {
   "cell_type": "markdown",
   "metadata": {},
   "source": [
    "#### d) Visualize synthetic data to show that your model generates a 'similar dataset'"
   ]
  },
  {
   "cell_type": "markdown",
   "metadata": {},
   "source": [
    "$x_2$'s are distributed in the interval (2,8) and do not go out of that internal as it happens in the original dataset.  \n",
    "Error is added to the result for variance. $x_1$ gets out of the ellipse sometimes, meaning that $x_1$ can be a lower value than 4, and higher value than 6.  \n",
    "Some points get inside the ellipse since the variance."
   ]
  },
  {
   "cell_type": "markdown",
   "metadata": {},
   "source": [
    "#### e) How can you assess if two datasets are similar? Discuss\n"
   ]
  },
  {
   "cell_type": "markdown",
   "metadata": {},
   "source": [
    "It can be checked that both plotted dataset form an ellipse of same parameters.  \n",
    "We can check if the variance is similar to each other by looking points with errors.  \n",
    "In coding bases, we can check if the ellipses both dataset form, intersect each other at how many points. There are simple algorithms for that purpose. If the count of intersection points are high, then simply, two dataset are more similar."
   ]
  },
  {
   "cell_type": "code",
   "execution_count": null,
   "metadata": {
    "collapsed": true
   },
   "outputs": [],
   "source": []
  }
 ],
 "metadata": {
  "kernelspec": {
   "display_name": "Python 2",
   "language": "python",
   "name": "python2"
  },
  "language_info": {
   "codemirror_mode": {
    "name": "ipython",
    "version": 2
   },
   "file_extension": ".py",
   "mimetype": "text/x-python",
   "name": "python",
   "nbconvert_exporter": "python",
   "pygments_lexer": "ipython2",
   "version": "2.7.13"
  }
 },
 "nbformat": 4,
 "nbformat_minor": 2
}
