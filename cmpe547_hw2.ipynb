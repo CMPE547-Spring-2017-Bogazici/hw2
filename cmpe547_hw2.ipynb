{
 "cells": [
  {
   "cell_type": "markdown",
   "metadata": {
    "deletable": true,
    "editable": true
   },
   "source": [
    "## CMPE547 - HW2"
   ]
  },
  {
   "cell_type": "markdown",
   "metadata": {
    "deletable": true,
    "editable": true
   },
   "source": [
    "### Question 1 : Visualize the given data on a scatter plot"
   ]
  },
  {
   "cell_type": "code",
   "execution_count": 10,
   "metadata": {
    "collapsed": false,
    "deletable": true,
    "editable": true
   },
   "outputs": [],
   "source": [
    "%matplotlib inline\n",
    "import math as m\n",
    "import numpy as np\n",
    "import matplotlib.pyplot as plt\n",
    "import matplotlib.pylab as pylab"
   ]
  },
  {
   "cell_type": "code",
   "execution_count": 11,
   "metadata": {
    "collapsed": false,
    "deletable": true,
    "editable": true
   },
   "outputs": [],
   "source": [
    "x1=[];\n",
    "x2=[];\n",
    "\n",
    "# Get the data\n",
    "with open(\"data.txt\") as f:\n",
    "    for line in f:\n",
    "        tokens = line.split()\n",
    "        x1.append(tokens[0])\n",
    "        x2.append(tokens[1])\n",
    "   \n",
    "x1= [float(x) for x in x1] # convert x1 into a list of floats from string\n",
    "x2= [float(x) for x in x2] # convert x2 into a list of floats from string"
   ]
  },
  {
   "cell_type": "markdown",
   "metadata": {
    "deletable": true,
    "editable": true
   },
   "source": [
    "The provided dataset has 100 $(x_1, x_2)$ tuples. Below is the scatterplot of the data."
   ]
  },
  {
   "cell_type": "code",
   "execution_count": 12,
   "metadata": {
    "collapsed": false,
    "deletable": true,
    "editable": true
   },
   "outputs": [
    {
     "data": {
      "image/png": "[encoded data removed]",
      "text/plain": [
       "<matplotlib.figure.Figure at 0x10fa8a240>"
      ]
     },
     "metadata": {},
     "output_type": "display_data"
    }
   ],
   "source": [
    "plt.axis('equal') \n",
    "plt.plot(x1,x2,'b.')\n",
    "plt.xlabel('x1')\n",
    "plt.ylabel('x2')\n",
    "pylab.title('Figure 1 - Provided Dataset');\n"
   ]
  },
  {
   "cell_type": "markdown",
   "metadata": {
    "deletable": true,
    "editable": true
   },
   "source": [
    "### Question 2 : Propose a generative model"
   ]
  },
  {
   "cell_type": "markdown",
   "metadata": {
    "deletable": true,
    "editable": true
   },
   "source": [
    "It is clear that the shape looks like an ellipse with a vertical major axis centered at $(5,5)$. While $x_1$ values mostly lie in the range $[4,6]$, $x_2$ values are between $[2,8]$. Therefore, the $a$ value in our ellipse equation becomes $\\dfrac{(6-4)}{2} = 1$ and the $b$ value becomes $\\dfrac{(8-2)}{2} = 3$. This yields the following relationship between $x_1$ and $x_2$:\n",
    "$$ \\dfrac{(x_1-5)^2}{1^2} + \\dfrac{(x_2-5)^2}{3^2} = 1 $$\n",
    "\n",
    "Furthermore, the points are scattered more or less uniformly along the $x_1$ dimension.\n",
    "Thus, our generative model becomes:\n"
   ]
  },
  {
   "cell_type": "markdown",
   "metadata": {},
   "source": [
    "$$x_1 \\sim \\mathcal{U}(4,6)$$\n",
    "\n",
    "$$x_2 = 5 \\pm \\sqrt{9-9*(x_1-5)^2}$$"
   ]
  },
  {
   "cell_type": "markdown",
   "metadata": {},
   "source": [
    "The noise parameters will be included soon."
   ]
  },
  {
   "cell_type": "markdown",
   "metadata": {
    "deletable": true,
    "editable": true
   },
   "source": [
    "### Question 3 : Implement the model and sample data"
   ]
  },
  {
   "cell_type": "markdown",
   "metadata": {
    "deletable": true,
    "editable": true
   },
   "source": [
    "We can implement the generative model as follows:"
   ]
  },
  {
   "cell_type": "code",
   "execution_count": 13,
   "metadata": {
    "collapsed": false,
    "deletable": true,
    "editable": true
   },
   "outputs": [],
   "source": [
    "# SYNTHETIC DATA GENERATION WITH NO NOISE\n",
    "sample_size = 100\n",
    "\n",
    "sign = np.ceil(np.random.uniform(0,1,sample_size) - 0.5) ## this is 0 or 1\n",
    "\n",
    "x1_sampled = np.random.uniform(4,6,sample_size) ## x1 drawn uniformly between [4,6]\n",
    "x2_sampled = 5 + (sign-1)*np.sqrt(9-9*(x1_sampled-5)**2) + (sign)*np.sqrt(9-9*(x1_sampled-5)**2) # if sign =0, subtraction, if sign = 1, addition\n",
    "\n",
    "#print(\"x1: \" , x1);\n",
    "#print(\"x2: \" , x2);"
   ]
  },
  {
   "cell_type": "markdown",
   "metadata": {
    "deletable": true,
    "editable": true
   },
   "source": [
    "At this point, we have sampled 100 $(x1,x2)$ tuples generated from the model we proposed. It's time to draw them on a scatter plot."
   ]
  },
  {
   "cell_type": "markdown",
   "metadata": {
    "deletable": true,
    "editable": true
   },
   "source": [
    "### Question 4 : Visualize the synthetic data and look for similarity"
   ]
  },
  {
   "cell_type": "code",
   "execution_count": 14,
   "metadata": {
    "collapsed": false,
    "deletable": true,
    "editable": true
   },
   "outputs": [
    {
     "data": {
      "image/png": "[encoded data removed]",
      "text/plain": [
       "<matplotlib.figure.Figure at 0x10fcda438>"
      ]
     },
     "metadata": {},
     "output_type": "display_data"
    }
   ],
   "source": [
    "plt.axis('equal')\n",
    "plt.plot(x1,x2,\"b.\", label='original data')\n",
    "plt.plot(x1_sampled,x2_sampled,\"r.\", label='synthetic data')\n",
    "plt.xlabel('x1')\n",
    "plt.ylabel('x2')\n",
    "pylab.title('Figure 2 (no noise in synthetic data)')\n",
    "pylab.legend(loc='upper right');\n",
    "\n"
   ]
  },
  {
   "cell_type": "markdown",
   "metadata": {
    "collapsed": true,
    "deletable": true,
    "editable": true
   },
   "source": [
    "As seen in the figure above, the synthetic data and the original data are kind of similar. Now, since there exists noise in real-life data, let's add some to our synthetic data and see if they look more similar. Noise to $x_1$ can be picked using the standard Normal distribution since there exist some outliers, while it is better to use a standard uniform distribution for noise to $x_2$ as there are rarely any outliers."
   ]
  },
  {
   "cell_type": "markdown",
   "metadata": {
    "deletable": true,
    "editable": true
   },
   "source": [
    "The complete generative model is:"
   ]
  },
  {
   "cell_type": "markdown",
   "metadata": {},
   "source": [
    "$$x_1noise \\sim sign_1* \\mathcal{N}(0,1) * n_1 $$\n",
    "\n",
    "$$x_2noise \\sim sign_2* \\mathcal{U}(0,1)*n_2 $$\n",
    "\n",
    "$$x \\sim \\mathcal{U}(4,6)$$\n",
    "\n",
    "$$x_1 = x + x_1noise $$\n",
    "\n",
    "$$x_2 = 5 \\pm \\sqrt{9-9*(x-5)^2} + x_2noise $$"
   ]
  },
  {
   "cell_type": "markdown",
   "metadata": {},
   "source": [
    "where $n_1, n_2$ are constants and $sign_1, sign_2$ are $1$ or $-1$ with equal probability"
   ]
  },
  {
   "cell_type": "code",
   "execution_count": 38,
   "metadata": {
    "collapsed": false,
    "deletable": true,
    "editable": true
   },
   "outputs": [],
   "source": [
    "# SYNTHETIC DATA GENERATION WITH NOISE\n",
    "sample_size = 100\n",
    "x1_noise_coefficient = 0.12\n",
    "x2_noise_coefficient = 0.04\n",
    "\n",
    "x1_noise = np.sign(np.random.rand(sample_size))*np.random.randn(sample_size)*x1_noise_coefficient # noise x1 from standard normal distribution, as there are some outliers.\n",
    "x2_noise = np.sign(np.random.rand(sample_size))*np.random.rand(sample_size)*x2_noise_coefficient # noise x2 from standard uniform distribution, as there are rarely any outliers.\n",
    "sign = np.ceil(np.random.uniform(0,1,sample_size) - 0.5) ## this is 0 or 1\n",
    "\n",
    "x = np.random.uniform(4,6,sample_size) ## x drawn uniformly between [4,6]\n",
    "x1_sampled = x + x1_noise\n",
    "x2_sampled = 5 + (sign-1)*np.sqrt(9-9*(x-5)**2) + (sign)*np.sqrt(9-9*(x-5)**2) # if sign =0, subtraction, if sign = 1, addition\n",
    "x2_sampled = x2_sampled + x2_noise\n",
    "\n",
    "#print(\"x1: \" , x1);\n",
    "#print(\"x2: \" , x2);"
   ]
  },
  {
   "cell_type": "code",
   "execution_count": 39,
   "metadata": {
    "collapsed": false,
    "deletable": true,
    "editable": true
   },
   "outputs": [
    {
     "data": {
      "image/png": "[encoded data removed]",
      "text/plain": [
       "<matplotlib.figure.Figure at 0x110220cc0>"
      ]
     },
     "metadata": {},
     "output_type": "display_data"
    }
   ],
   "source": [
    "plt.axis('equal')\n",
    "plt.plot(x1,x2,\"b.\", label='original data')\n",
    "plt.plot(x1_sampled,x2_sampled,\"r.\", label='synthetic data')\n",
    "plt.xlabel('x1')\n",
    "plt.ylabel('x2')\n",
    "pylab.title('Figure 3 (noise in synthetic data)')\n",
    "pylab.legend(loc='upper right');"
   ]
  },
  {
   "cell_type": "markdown",
   "metadata": {
    "deletable": true,
    "editable": true
   },
   "source": [
    "### Question 5 : Discuss methods of assessing similarity between datasets"
   ]
  },
  {
   "cell_type": "markdown",
   "metadata": {
    "deletable": true,
    "editable": true
   },
   "source": [
    "Voila! Our synthetic data looks much similar to the original data after the addition of noise. We can tell that just by observing Figure 3. However, to be more scientific, we can use a similarity measure for assessment. "
   ]
  },
  {
   "cell_type": "markdown",
   "metadata": {
    "deletable": true,
    "editable": true
   },
   "source": [
    "In statistical terms, a very good way to see if two datasets are similar is comparing the correlation between the variables, which are $x_1$ and $x_2$ in our problem. Correlation indicates how $x_2$ changes when $x_1$ changes. It tells us about the relationship between $x_1$ and $x_2$. On top of that, we can calculate the mean along each dimension to be sure whether the points are in similar ranges. Let's get to the math!"
   ]
  },
  {
   "cell_type": "code",
   "execution_count": 40,
   "metadata": {
    "collapsed": false,
    "deletable": true,
    "editable": true
   },
   "outputs": [
    {
     "name": "stdout",
     "output_type": "stream",
     "text": [
      "Correlation matrix for the original data:\n",
      "[[ 1.          0.10921497]\n",
      " [ 0.10921497  1.        ]]\n",
      "\n",
      "\n",
      "Correlation matrix for the synthetic data:\n",
      "[[ 1.          0.12393845]\n",
      " [ 0.12393845  1.        ]]\n",
      "\n",
      "\n",
      "x1 mean for the original data:  4.89903\n",
      "x1 mean for the synthetic data:  5.07921924781\n",
      "x2 mean for the  original data:  4.85242\n",
      "x2 mean for the synthetic data:  4.84133282631\n"
     ]
    }
   ],
   "source": [
    "x1_sampled= [float(x) for x in x1_sampled] # convert x1_sampled into a list of floats from string\n",
    "x2_sampled= [float(x) for x in x2_sampled] # convert x2_sampled into a list of floats from string\n",
    "\n",
    "print(\"Correlation matrix for the original data:\") \n",
    "print(np.corrcoef(x1,x2))\n",
    "print (\"\\n\")\n",
    "print(\"Correlation matrix for the synthetic data:\") \n",
    "print(np.corrcoef(x1_sampled,x2_sampled))\n",
    "print (\"\\n\")\n",
    "print(\"x1 mean for the original data: \",np.mean(x1)) \n",
    "print(\"x1 mean for the synthetic data: \",np.mean(x1_sampled))\n",
    "print(\"x2 mean for the  original data: \",np.mean(x2))\n",
    "print(\"x2 mean for the synthetic data: \",np.mean(x2_sampled))"
   ]
  },
  {
   "cell_type": "markdown",
   "metadata": {
    "deletable": true,
    "editable": true
   },
   "source": [
    "The correlation coefficients are almost the same. This indicates that our generative model got the relationship between $x_1$ and $x_2$ right. In addition, the means are also very close, showing the fact that the points are scattered around very similar ranges. Although similarity is always a subjective matter, I can say that our generative model did a pretty good job at creating a perhaps indistingishable set of points from the original ones!\n"
   ]
  }
 ],
 "metadata": {
  "kernelspec": {
   "display_name": "Python 3",
   "language": "python",
   "name": "python3"
  },
  "language_info": {
   "codemirror_mode": {
    "name": "ipython",
    "version": 3
   },
   "file_extension": ".py",
   "mimetype": "text/x-python",
   "name": "python",
   "nbconvert_exporter": "python",
   "pygments_lexer": "ipython3",
   "version": "3.6.0"
  }
 },
 "nbformat": 4,
 "nbformat_minor": 2
}
