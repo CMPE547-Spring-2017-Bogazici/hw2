{
 "cells": [
  {
   "cell_type": "markdown",
   "metadata": {},
   "source": [
    "## Deniz Ekiz CMPE547 HW2 \n",
    "### QUESTION 1\n",
    "\n",
    "The given data is plotted.\n",
    "\n",
    "$x1$ and $x2$ are the parameters of my data."
   ]
  },
  {
   "cell_type": "code",
   "execution_count": 78,
   "metadata": {
    "collapsed": false
   },
   "outputs": [
    {
     "data": {
      "image/png": "[encoded data removed]",
      "text/plain": [
       "<matplotlib.figure.Figure at 0x112b50110>"
      ]
     },
     "metadata": {},
     "output_type": "display_data"
    }
   ],
   "source": [
    "%matplotlib inline\n",
    "\n",
    "from IPython.display import display, Math, Latex\n",
    "import matplotlib as mpl\n",
    "import matplotlib.pyplot as plt\n",
    "import numpy as np\n",
    "\n",
    "import pandas as pd\n",
    "import seaborn as sns\n",
    "#import given Data\n",
    "my_data = np.loadtxt(\"./data.txt\",skiprows=1)\n",
    "my_x1 = my_data[:,0]\n",
    "my_x2 = my_data[:,1]\n",
    "#Plot given Data\n",
    "plt.figure(figsize=(5,5))\n",
    "plt.axis([0,9,0,9])\n",
    "plt.scatter(my_x1,my_x2)\n",
    "plt.xlabel('x_1')\n",
    "plt.ylabel('x_2')\n",
    "plt.title('Given Data')\n",
    "plt.show()\n",
    "\n",
    "\n"
   ]
  },
  {
   "cell_type": "markdown",
   "metadata": {
    "collapsed": true
   },
   "source": [
    "### Question 2\n",
    "The resulting shape is an vertical ellipse. The formula of vertical ellipse is given by $ \\frac{x_1^2}{b^2} + \\frac{x_2^2}{a^2} = 1 \\: where \\: a>b  $\n",
    "\n",
    " The range of $x_1$ is $[ 4 , 6 ] $ and the range of $x_2$ is $[2,8]$\n",
    " \n",
    " I select uniform x_1 within range $[4,6]$, $a = 3$ and $b=1$\n",
    " \n",
    " The plot axis are fixed to $[0,9]$ interval\n",
    " \n",
    " Normalized noise also added as a factor of  $\\sqrt{r}$ where $r = 0.05$\n",
    " \n",
    " "
   ]
  },
  {
   "cell_type": "markdown",
   "metadata": {},
   "source": [
    "### Question 3"
   ]
  },
  {
   "cell_type": "code",
   "execution_count": 84,
   "metadata": {
    "collapsed": false
   },
   "outputs": [
    {
     "data": {
      "image/png": "[encoded data removed]",
      "text/plain": [
       "<matplotlib.figure.Figure at 0x112e30850>"
      ]
     },
     "metadata": {},
     "output_type": "display_data"
    }
   ],
   "source": [
    "import numpy as np\n",
    "#Sample number is 100\n",
    "N = 100\n",
    "# X1 is within range 3.5 and 6\n",
    "x1 = np.random.uniform(4, 6, N)\n",
    "a = 3\n",
    "b = 1\n",
    "# r is noise factor\n",
    "r = 0.05\n",
    "\n",
    "x2 = np.sqrt(np.subtract(np.square(a),np.divide(np.dot(np.square(a),np.square( np.subtract (x1,5))),np.square(b)) )) + np.sqrt(r)*np.random.randn(1,N) \n",
    "#Since y has two roots for each x value, I multiply with -1 half of the graph.\n",
    "for i in range(N/2):\n",
    "    x2[:,i] = x2[:,i]*(-1)\n",
    "x2 = x2 + 5\n",
    "\n",
    "plt.axis([0,9,0,9])\n",
    "plt.scatter(x1,x2)\n",
    "plt.show()"
   ]
  },
  {
   "cell_type": "code",
   "execution_count": 59,
   "metadata": {
    "collapsed": false
   },
   "outputs": [
    {
     "data": {
      "text/plain": [
       "array([-2.84560183])"
      ]
     },
     "execution_count": 59,
     "metadata": {},
     "output_type": "execute_result"
    }
   ],
   "source": []
  },
  {
   "cell_type": "code",
   "execution_count": null,
   "metadata": {
    "collapsed": true
   },
   "outputs": [],
   "source": []
  }
 ],
 "metadata": {
  "kernelspec": {
   "display_name": "Python 2",
   "language": "python",
   "name": "python2"
  },
  "language_info": {
   "codemirror_mode": {
    "name": "ipython",
    "version": 2
   },
   "file_extension": ".py",
   "mimetype": "text/x-python",
   "name": "python",
   "nbconvert_exporter": "python",
   "pygments_lexer": "ipython2",
   "version": "2.7.13"
  }
 },
 "nbformat": 4,
 "nbformat_minor": 2
}
