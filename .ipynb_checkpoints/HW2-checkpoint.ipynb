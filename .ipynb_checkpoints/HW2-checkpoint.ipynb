{
 "cells": [
  {
   "cell_type": "markdown",
   "metadata": {
    "deletable": true,
    "editable": true
   },
   "source": [
    "# Homework 2"
   ]
  },
  {
   "cell_type": "markdown",
   "metadata": {
    "deletable": true,
    "editable": true
   },
   "source": [
    "### 1. Visualization of the Dataset"
   ]
  },
  {
   "cell_type": "code",
   "execution_count": 109,
   "metadata": {
    "collapsed": false,
    "deletable": true,
    "editable": true
   },
   "outputs": [],
   "source": [
    "import numpy as np\n",
    "import pandas as pd\n",
    "import matplotlib.pyplot as plt \n",
    "import matplotlib as mpl\n",
    "import seaborn as sns \n",
    "\n",
    "sns.set(color_codes=True)\n",
    "sns.set_context(\"notebook\", font_scale=1.1)\n",
    "sns.set_style(\"darkgrid\")\n",
    "%matplotlib inline\n",
    "\n"
   ]
  },
  {
   "cell_type": "code",
   "execution_count": 135,
   "metadata": {
    "collapsed": false,
    "deletable": true,
    "editable": true
   },
   "outputs": [
    {
     "data": {
      "text/html": [
       "<div>\n",
       "<table border=\"1\" class=\"dataframe\">\n",
       "  <thead>\n",
       "    <tr style=\"text-align: right;\">\n",
       "      <th></th>\n",
       "      <th>x1</th>\n",
       "      <th>x2</th>\n",
       "    </tr>\n",
       "  </thead>\n",
       "  <tbody>\n",
       "    <tr>\n",
       "      <th>count</th>\n",
       "      <td>100.000000</td>\n",
       "      <td>100.000000</td>\n",
       "    </tr>\n",
       "    <tr>\n",
       "      <th>mean</th>\n",
       "      <td>4.899030</td>\n",
       "      <td>4.852420</td>\n",
       "    </tr>\n",
       "    <tr>\n",
       "      <th>std</th>\n",
       "      <td>0.706047</td>\n",
       "      <td>2.260844</td>\n",
       "    </tr>\n",
       "    <tr>\n",
       "      <th>min</th>\n",
       "      <td>3.502000</td>\n",
       "      <td>2.001000</td>\n",
       "    </tr>\n",
       "    <tr>\n",
       "      <th>25%</th>\n",
       "      <td>4.332750</td>\n",
       "      <td>2.599500</td>\n",
       "    </tr>\n",
       "    <tr>\n",
       "      <th>50%</th>\n",
       "      <td>4.934500</td>\n",
       "      <td>4.596500</td>\n",
       "    </tr>\n",
       "    <tr>\n",
       "      <th>75%</th>\n",
       "      <td>5.436000</td>\n",
       "      <td>7.358250</td>\n",
       "    </tr>\n",
       "    <tr>\n",
       "      <th>max</th>\n",
       "      <td>6.229000</td>\n",
       "      <td>8.000000</td>\n",
       "    </tr>\n",
       "  </tbody>\n",
       "</table>\n",
       "</div>"
      ],
      "text/plain": [
       "               x1          x2\n",
       "count  100.000000  100.000000\n",
       "mean     4.899030    4.852420\n",
       "std      0.706047    2.260844\n",
       "min      3.502000    2.001000\n",
       "25%      4.332750    2.599500\n",
       "50%      4.934500    4.596500\n",
       "75%      5.436000    7.358250\n",
       "max      6.229000    8.000000"
      ]
     },
     "execution_count": 135,
     "metadata": {},
     "output_type": "execute_result"
    }
   ],
   "source": [
    "plot_data = pd.read_csv('data.csv',sep=' ')\n",
    "plot_data.describe()"
   ]
  },
  {
   "cell_type": "code",
   "execution_count": 111,
   "metadata": {
    "collapsed": false,
    "deletable": true,
    "editable": true
   },
   "outputs": [
    {
     "data": {
      "image/png": "[encoded data removed]",
      "text/plain": [
       "<matplotlib.figure.Figure at 0x10afef080>"
      ]
     },
     "metadata": {},
     "output_type": "display_data"
    }
   ],
   "source": [
    "\n",
    "_plot = sns.lmplot('x1', 'x2', \n",
    "           data=plot_data, \n",
    "           fit_reg=False, \n",
    "           size=8,\n",
    "           scatter_kws={\"marker\": \"D\", \n",
    "                        \"s\": 100})\n",
    "axes = _plot.axes\n",
    "axes[0,0].set_xlim(0,9)\n",
    "axes[0,0].set_ylim(0,9)\n",
    "plt.title('Data Visualization');\n",
    "plt.xlabel('x1');\n",
    "plt.ylabel('x2');\n"
   ]
  },
  {
   "cell_type": "markdown",
   "metadata": {
    "deletable": true,
    "editable": true
   },
   "source": [
    "### 2. Propose a Generative Model"
   ]
  },
  {
   "cell_type": "code",
   "execution_count": 136,
   "metadata": {
    "collapsed": false
   },
   "outputs": [
    {
     "name": "stdout",
     "output_type": "stream",
     "text": [
      "3.502 6.229 2.001 8.0\n"
     ]
    }
   ],
   "source": [
    "X1 = plot_data['x1']\n",
    "X2 = plot_data['x2']\n",
    "x1_min,x2_min = min(X1),min(X2)\n",
    "x1_max,x2_max = max(X1),max(X2)\n",
    "print(x1_min,x1_max,x2_min,x2_max)"
   ]
  },
  {
   "cell_type": "markdown",
   "metadata": {},
   "source": [
    "The above model could be interpreted as a vertical ellipse with a center being $(5,5)$ without the noise data.\n",
    "\n",
    "The range of the $x1$ is between $[3.5,6.2]$ and the range of the $x2$ is between roughly $[2,8]$.\n",
    "\n",
    "From this data we can derive the equation for the vertical ellipse, original equation being $\\\\$ $$\\frac{x^2}{a^2} + \\frac{y^2}{b^2} = 1$$  and $$b>a$$ since it has vertical major axis.\n",
    "\n",
    "We convert this equation according to our model and the equation is this: \n",
    "\n",
    "$$ \\frac{(x-5)^2}{1.35^2} + \\frac{(y-5)^2}{3^2} = 1$$\n",
    "\n",
    "If we solve this equation we find that the root is \n",
    "\n",
    "$$ y = 5\\ \\pm\\ \\sqrt{9 - 4.398 (x-5)^2}$$\n",
    "\n",
    "We could use this equation to generate a data set similiar to the given one. We could investigate the distribution of each point class to choose an appropriate noise logic.\n"
   ]
  },
  {
   "cell_type": "code",
   "execution_count": 137,
   "metadata": {
    "collapsed": false
   },
   "outputs": [
    {
     "data": {
      "image/png": "[encoded data removed]",
      "text/plain": [
       "<matplotlib.figure.Figure at 0x10aa2a5f8>"
      ]
     },
     "metadata": {},
     "output_type": "display_data"
    }
   ],
   "source": [
    "sns.jointplot(x=\"x1\",y=\"x2\",data=plot_data);"
   ]
  },
  {
   "cell_type": "markdown",
   "metadata": {},
   "source": [
    "Since the distribution of the $x1$ is more close the uniform distribution, I choose to generate $x1$ from a normal distribution between $[4,6]$ (rounded values for better computation, also rounded 1.35 to 1 for the same purpose).\n",
    "\n",
    "The values of $x2$ will be determined from these $x1$ values and the sign for the roots will be determined via a Gaussian Distribution between $[0,1]$.\n",
    "\n",
    "The noises for the values be added by the Gaussian distribution between $[0,1]$.\n",
    "\n",
    "The proposed generative model is below \n",
    "\n",
    "\\begin{eqnarray}\n",
    "w & \\sim & \\mathcal{U}(4,6)  \\\\\n",
    "x1 & = & w + \\frac{\\varepsilon_{1}}{11}\\\\\n",
    "x2 & = & 5\\pm \\sqrt{9 - 9 (w - 5)^2} \\pm \\frac{\\varepsilon_{2}}{13}\\\\\n",
    "\\varepsilon_{1} & \\sim & \\mathcal{N}(0,1)\\\\\n",
    "\\varepsilon_{2} & \\sim & \\mathcal{N}(0,1)\\\\\n",
    "\\end{eqnarray}"
   ]
  },
  {
   "cell_type": "markdown",
   "metadata": {
    "deletable": true,
    "editable": true
   },
   "source": [
    "### 3. Implement generative model and sample data from the model"
   ]
  },
  {
   "cell_type": "code",
   "execution_count": 143,
   "metadata": {
    "collapsed": false
   },
   "outputs": [
    {
     "data": {
      "text/html": [
       "<div>\n",
       "<table border=\"1\" class=\"dataframe\">\n",
       "  <thead>\n",
       "    <tr style=\"text-align: right;\">\n",
       "      <th></th>\n",
       "      <th>x1</th>\n",
       "      <th>x2</th>\n",
       "    </tr>\n",
       "  </thead>\n",
       "  <tbody>\n",
       "    <tr>\n",
       "      <th>1</th>\n",
       "      <td>4.055693</td>\n",
       "      <td>4.211390</td>\n",
       "    </tr>\n",
       "    <tr>\n",
       "      <th>2</th>\n",
       "      <td>4.629762</td>\n",
       "      <td>7.667522</td>\n",
       "    </tr>\n",
       "    <tr>\n",
       "      <th>3</th>\n",
       "      <td>4.060553</td>\n",
       "      <td>6.327373</td>\n",
       "    </tr>\n",
       "    <tr>\n",
       "      <th>4</th>\n",
       "      <td>5.363113</td>\n",
       "      <td>2.200686</td>\n",
       "    </tr>\n",
       "    <tr>\n",
       "      <th>5</th>\n",
       "      <td>5.652602</td>\n",
       "      <td>2.749939</td>\n",
       "    </tr>\n",
       "  </tbody>\n",
       "</table>\n",
       "</div>"
      ],
      "text/plain": [
       "         x1        x2\n",
       "1  4.055693  4.211390\n",
       "2  4.629762  7.667522\n",
       "3  4.060553  6.327373\n",
       "4  5.363113  2.200686\n",
       "5  5.652602  2.749939"
      ]
     },
     "execution_count": 143,
     "metadata": {},
     "output_type": "execute_result"
    },
    {
     "data": {
      "text/html": [
       "<div>\n",
       "<table border=\"1\" class=\"dataframe\">\n",
       "  <thead>\n",
       "    <tr style=\"text-align: right;\">\n",
       "      <th></th>\n",
       "      <th>x1</th>\n",
       "      <th>x2</th>\n",
       "    </tr>\n",
       "  </thead>\n",
       "  <tbody>\n",
       "    <tr>\n",
       "      <th>96</th>\n",
       "      <td>5.330775</td>\n",
       "      <td>2.138496</td>\n",
       "    </tr>\n",
       "    <tr>\n",
       "      <th>97</th>\n",
       "      <td>4.453910</td>\n",
       "      <td>7.471659</td>\n",
       "    </tr>\n",
       "    <tr>\n",
       "      <th>98</th>\n",
       "      <td>5.688515</td>\n",
       "      <td>2.805877</td>\n",
       "    </tr>\n",
       "    <tr>\n",
       "      <th>99</th>\n",
       "      <td>5.913146</td>\n",
       "      <td>3.450489</td>\n",
       "    </tr>\n",
       "    <tr>\n",
       "      <th>100</th>\n",
       "      <td>4.263949</td>\n",
       "      <td>2.943531</td>\n",
       "    </tr>\n",
       "  </tbody>\n",
       "</table>\n",
       "</div>"
      ],
      "text/plain": [
       "           x1        x2\n",
       "96   5.330775  2.138496\n",
       "97   4.453910  7.471659\n",
       "98   5.688515  2.805877\n",
       "99   5.913146  3.450489\n",
       "100  4.263949  2.943531"
      ]
     },
     "execution_count": 143,
     "metadata": {},
     "output_type": "execute_result"
    },
    {
     "data": {
      "text/html": [
       "<div>\n",
       "<table border=\"1\" class=\"dataframe\">\n",
       "  <thead>\n",
       "    <tr style=\"text-align: right;\">\n",
       "      <th></th>\n",
       "      <th>x1</th>\n",
       "      <th>x2</th>\n",
       "    </tr>\n",
       "  </thead>\n",
       "  <tbody>\n",
       "    <tr>\n",
       "      <th>count</th>\n",
       "      <td>100.000000</td>\n",
       "      <td>100.000000</td>\n",
       "    </tr>\n",
       "    <tr>\n",
       "      <th>mean</th>\n",
       "      <td>5.021635</td>\n",
       "      <td>5.283719</td>\n",
       "    </tr>\n",
       "    <tr>\n",
       "      <th>std</th>\n",
       "      <td>0.589292</td>\n",
       "      <td>2.421827</td>\n",
       "    </tr>\n",
       "    <tr>\n",
       "      <th>min</th>\n",
       "      <td>3.829637</td>\n",
       "      <td>1.761387</td>\n",
       "    </tr>\n",
       "    <tr>\n",
       "      <th>25%</th>\n",
       "      <td>4.609073</td>\n",
       "      <td>2.631668</td>\n",
       "    </tr>\n",
       "    <tr>\n",
       "      <th>50%</th>\n",
       "      <td>5.008195</td>\n",
       "      <td>6.371712</td>\n",
       "    </tr>\n",
       "    <tr>\n",
       "      <th>75%</th>\n",
       "      <td>5.498020</td>\n",
       "      <td>7.682238</td>\n",
       "    </tr>\n",
       "    <tr>\n",
       "      <th>max</th>\n",
       "      <td>5.938938</td>\n",
       "      <td>8.097978</td>\n",
       "    </tr>\n",
       "  </tbody>\n",
       "</table>\n",
       "</div>"
      ],
      "text/plain": [
       "               x1          x2\n",
       "count  100.000000  100.000000\n",
       "mean     5.021635    5.283719\n",
       "std      0.589292    2.421827\n",
       "min      3.829637    1.761387\n",
       "25%      4.609073    2.631668\n",
       "50%      5.008195    6.371712\n",
       "75%      5.498020    7.682238\n",
       "max      5.938938    8.097978"
      ]
     },
     "execution_count": 143,
     "metadata": {},
     "output_type": "execute_result"
    }
   ],
   "source": [
    "#Generative Model\n",
    "#number of points\n",
    "N = 100\n",
    "# Kernel\n",
    "w = 2 * np.random.rand(N) + 4\n",
    "# Noise for the x1\n",
    "epsilon1 = np.random.randn(N)\n",
    "#Noise for the x2\n",
    "epsilon2 = np.random.randn(N)\n",
    "x1 = w + epsilon1/11\n",
    "# sign \n",
    "sn = np.sign(np.random.randn(N))\n",
    "x2 = 5 + sn * np.sqrt(9 - (9 * (w - 5)**2)) - sn * epsilon2/13\n",
    "\n",
    "generated = {\"x1\": x1,\"x2\": x2}\n",
    "index = [i for i in range(1,N+1)]\n",
    "g_data = pd.DataFrame(data=generated,index=index)\n",
    "g_data.head()\n",
    "g_data.tail()\n",
    "g_data.describe()\n"
   ]
  },
  {
   "cell_type": "markdown",
   "metadata": {
    "deletable": true,
    "editable": true
   },
   "source": [
    "### 4. Visualize synthetic data to show that your model generates a 'similar dataset "
   ]
  },
  {
   "cell_type": "code",
   "execution_count": 145,
   "metadata": {
    "collapsed": false
   },
   "outputs": [
    {
     "data": {
      "image/png": "[encoded data removed]",
      "text/plain": [
       "<matplotlib.figure.Figure at 0x103ea3b38>"
      ]
     },
     "metadata": {},
     "output_type": "display_data"
    }
   ],
   "source": [
    "N = 100\n",
    "w = 2 * np.random.rand(N) + 4\n",
    "epsilon1 = np.random.randn(N)\n",
    "epsilon2 = np.random.randn(N)\n",
    "x1 = w + epsilon1/11\n",
    "sn = np.sign(np.random.randn(N))\n",
    "x2 = 5 + sn * np.sqrt(9 - (9 * (w - 5)**2)) - sn * epsilon2/13\n",
    "\n",
    "generated = {\"x1\": x1,\"x2\": x2}\n",
    "index = [i for i in range(1,N+1)]\n",
    "g_data = pd.DataFrame(data=generated,index=index)\n",
    "\n",
    "_plot2 = sns.lmplot('x1', 'x2', \n",
    "           data=g_data, \n",
    "           fit_reg=False, \n",
    "           size=8,\n",
    "           scatter_kws={\"marker\": \"D\", \n",
    "                        \"s\": 100})\n",
    "axes = _plot2.axes\n",
    "axes[0,0].set_xlim(0,9);\n",
    "axes[0,0].set_ylim(0,9);"
   ]
  },
  {
   "cell_type": "markdown",
   "metadata": {
    "deletable": true,
    "editable": true
   },
   "source": [
    "### 5.  How can you assess if two datasets are similar? Discuss"
   ]
  },
  {
   "cell_type": "markdown",
   "metadata": {
    "collapsed": true,
    "deletable": true,
    "editable": true
   },
   "source": [
    "We can plot the two datasets and check their distribution in the scatter plot like in this case. This approach is very primitive but it gives an idea about the general distribution in some cases.\n",
    "\n",
    "Using statistical parameters we could check the mean, variance, correlation and percentage values. Significant differences in mean assures that the datasets are drawn from different datasets. Also we can check the variance and correlation similarities. These parameters can give information about the divergence from the mean and the correlation relations about the different proportions of the datasets.\n",
    "\n"
   ]
  },
  {
   "cell_type": "code",
   "execution_count": null,
   "metadata": {
    "collapsed": true
   },
   "outputs": [],
   "source": []
  }
 ],
 "metadata": {
  "kernelspec": {
   "display_name": "Python 3",
   "language": "python",
   "name": "python3"
  },
  "language_info": {
   "codemirror_mode": {
    "name": "ipython",
    "version": 3
   },
   "file_extension": ".py",
   "mimetype": "text/x-python",
   "name": "python",
   "nbconvert_exporter": "python",
   "pygments_lexer": "ipython3",
   "version": "3.5.2"
  }
 },
 "nbformat": 4,
 "nbformat_minor": 2
}
