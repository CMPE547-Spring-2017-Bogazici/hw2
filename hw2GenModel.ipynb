{
 "cells": [
  {
   "cell_type": "markdown",
   "metadata": {},
   "source": [
    "## CMPE 547 - HW2   Sevgi Ozturk"
   ]
  },
  {
   "cell_type": "markdown",
   "metadata": {},
   "source": [
    "1. Visualize this dataset using a scatter plot"
   ]
  },
  {
   "cell_type": "code",
   "execution_count": 1,
   "metadata": {
    "collapsed": false
   },
   "outputs": [
    {
     "data": {
      "text/plain": [
       "<matplotlib.text.Text at 0x2b694d520b8>"
      ]
     },
     "execution_count": 1,
     "metadata": {},
     "output_type": "execute_result"
    },
    {
     "data": {
      "image/png": "[encoded data removed]",
      "text/plain": [
       "<matplotlib.figure.Figure at 0x2b692be7e80>"
      ]
     },
     "metadata": {},
     "output_type": "display_data"
    }
   ],
   "source": [
    "%reset -f\n",
    "%matplotlib inline\n",
    "from mpl_toolkits.mplot3d import axes3d\n",
    "import matplotlib.pyplot as plt\n",
    "import numpy as np\n",
    "\n",
    "# I just wanted to see whole my equipments in one file, sorry for disturbance :)\n",
    "arr = np.array([[5.219,7.998],[5.102,2.163],[4.089,4.327],[5.046,8.000],[4.596,2.238],[4.356,2.157],[5.282,7.841],[3.594,4.953],\n",
    "[5.376,2.124],[5.320,3.755],[4.938,2.001],[4.003,6.037],[3.988,5.197],[4.137,3.742],[5.535,7.902],[5.332,7.799],[4.712,2.027],\n",
    "[4.788,7.928],[5.713,2.931],[3.897,4.284],[5.670,7.273],[4.713,2.177],[4.687,7.894],[4.064,5.441],[4.430,2.535],[6.066,4.035],\n",
    "[5.733,7.255],[6.071,5.107],[5.336,2.123],[4.129,3.523],[4.509,2.979],[4.765,2.080],[6.041,5.963],[5.877,3.291],[4.931,2.012],\n",
    "[5.224,7.916],[3.502,4.110],[4.805,2.007],[4.942,2.008],[3.957,4.141],[4.323,2.926],[5.199,7.940],[4.227,2.987],[4.612,2.272],\n",
    "[5.439,2.621],[5.467,7.698],[5.936,6.477],[5.197,2.046],[5.841,3.409],[5.791,3.160],[4.184,3.449],[5.271,2.111],[4.365,7.614],\n",
    "[4.744,2.047],[4.649,7.963],[5.793,5.572],[4.999,8.000],[4.683,2.147],[4.860,7.811],[5.791,6.329],[5.277,7.696],[4.109,6.748],\n",
    "[3.877,5.785],[5.735,3.654],[5.324,2.373],[5.318,7.919],[4.462,2.455],[4.410,2.014],[4.636,7.638],[6.017,3.632],[4.336,2.760],\n",
    "[5.788,6.016],[3.859,6.004],[5.022,7.978],[3.959,4.353],[4.001,4.747],[5.522,7.721],[5.857,2.260],[4.596,7.707],[4.833,2.061],\n",
    "[5.073,2.009],[6.091,4.502],[3.845,4.835],[3.961,5.543],[5.104,8.000],[5.667,6.842],[6.229,4.691],[4.352,2.719],[4.139,5.550],\n",
    "[6.148,6.180],[4.456,2.694],[5.459,7.797],[3.861,4.759],[5.139,7.970],[5.435,7.913],[5.333,2.106],[4.016,4.113],[4.187,6.587],\n",
    "[3.681,7.095],[4.943,7.963]])\n",
    "\n",
    "x1 = arr[:,0]\n",
    "x2 = arr[:,1]\n",
    "data = np.array([x1,x2])\n",
    "plt.figure(figsize=(6,6))\n",
    "plt.plot(x1, x2, 'o',markeredgecolor='k',markerfacecolor='None')\n",
    "plt.xlabel('x1')\n",
    "plt.ylabel('x2')\n",
    "plt.xlim(3.5, 6.5)\n",
    "plt.ylim(1.8, 8.3)\n",
    "plt.title('Data')"
   ]
  },
  {
   "cell_type": "markdown",
   "metadata": {},
   "source": [
    "2. Propose a generative model\n",
    "3. Implement your generative model and sample data from your model \n",
    "4. Visualize synthetic data to show that your model generates a 'similar dataset'\n"
   ]
  },
  {
   "cell_type": "code",
   "execution_count": 4,
   "metadata": {
    "collapsed": false
   },
   "outputs": [
    {
     "data": {
      "image/png": "[encoded data removed]",
      "text/plain": [
       "<matplotlib.figure.Figure at 0x2b692c8fbe0>"
      ]
     },
     "metadata": {},
     "output_type": "display_data"
    }
   ],
   "source": [
    "# Predicted Generative Model\n",
    "N = 100\n",
    "theta = np.ones((2,N))\n",
    "theta[1,:] = 3\n",
    "\n",
    "shift = 5 # shift in the origin\n",
    "rnd = np.random.rand(1,N)\n",
    "rowX1 = np.cos(2*np.pi*rnd)\n",
    "rowX2 = np.sin(2*np.pi*rnd)\n",
    "u = np.array([rowX1[0],rowX2[0]])\n",
    "\n",
    "# If noise is dependent on the signal itself, the similarity between model and sample data increases. So I commented the line below.\n",
    "#rnd = np.random.rand(1,N)\n",
    "e = 0.13*np.cos(2*np.pi*rnd)*np.random.randn(2,N) \n",
    "X = u*theta + 5 + e\n",
    "model = X\n",
    "\n",
    "plt.figure(figsize=(6,6))\n",
    "plt.plot(X[0,:],X[1,:],'o',markeredgecolor='r',markerfacecolor='None')\n",
    "plt.xlim(3.5, 6.5)\n",
    "plt.ylim(1.8, 8.3)\n",
    "plt.title('Predicted Generative Model')\n",
    "plt.show()"
   ]
  },
  {
   "cell_type": "markdown",
   "metadata": {},
   "source": [
    "\\begin{eqnarray}\n",
    "w & \\sim & \\mathcal{U}(0,1) \\\\\n",
    "u & = & \\left(\\begin{array}{c} \\cos(2\\pi w) \\\\ \\sin(2\\pi w) \\end{array}\\right) \\\\\n",
    "e & \\sim & \\mathcal{N}\\left(0, (\\sigma u_{[0]})^2 \\left(\\begin{array}{cc}  1 & 0\\\\  0 & 1\\\\\\end{array}\\right) \\right) \\\\\n",
    "x & \\sim & \\left(\\begin{array}{c} \\theta_1 \\\\ \\theta_2 \\end{array} \\right)u + shift + e\n",
    "\\end{eqnarray}"
   ]
  },
  {
   "cell_type": "markdown",
   "metadata": {},
   "source": [
    "## How can you assess if two datasets are similar? Discuss"
   ]
  },
  {
   "cell_type": "markdown",
   "metadata": {},
   "source": [
    "Kolmogorov-Smirnov test is generally can be used to see if two data sets are coming from the same distribution or not. However, there is no accepted method to apply Kolmogorov-Smirnov test for two-dimensional data. Instead, the test is applied in dimension-wise manner and resulted that two datasets are more similar in y(sin) dimension than in x(cos) dimension (p=0.67>p=0.26). This result is consistent with our standart deviation factor, which adds cos-wise noise to the system."
   ]
  },
  {
   "cell_type": "code",
   "execution_count": 5,
   "metadata": {
    "collapsed": false
   },
   "outputs": [
    {
     "name": "stdout",
     "output_type": "stream",
     "text": [
      "Ks_2sampResult(statistic=0.14000000000000001, pvalue=0.26055273160812736)\n",
      "Ks_2sampResult(statistic=0.10000000000000001, pvalue=0.67662014970024587)\n"
     ]
    }
   ],
   "source": [
    "from scipy.stats import ks_2samp\n",
    "\n",
    "print(ks_2samp(data[0,:], model[0,:]))\n",
    "print(ks_2samp(data[1,:], model[1,:]))"
   ]
  }
 ],
 "metadata": {
  "kernelspec": {
   "display_name": "Python 3",
   "language": "python",
   "name": "python3"
  },
  "language_info": {
   "codemirror_mode": {
    "name": "ipython",
    "version": 3
   },
   "file_extension": ".py",
   "mimetype": "text/x-python",
   "name": "python",
   "nbconvert_exporter": "python",
   "pygments_lexer": "ipython3",
   "version": "3.6.0"
  }
 },
 "nbformat": 4,
 "nbformat_minor": 2
}
